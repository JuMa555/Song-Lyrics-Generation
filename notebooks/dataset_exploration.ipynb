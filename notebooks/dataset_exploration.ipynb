{
 "cells": [
  {
   "cell_type": "markdown",
   "metadata": {},
   "source": [
    "# Dataset Exploration"
   ]
  },
  {
   "cell_type": "code",
   "execution_count": 158,
   "metadata": {},
   "outputs": [],
   "source": [
    "import warnings\n",
    "warnings.filterwarnings('ignore')"
   ]
  },
  {
   "cell_type": "code",
   "execution_count": 159,
   "metadata": {},
   "outputs": [],
   "source": [
    "import pandas as pd\n",
    "import re\n",
    "import matplotlib.pyplot as plt\n",
    "import seaborn as sns"
   ]
  },
  {
   "cell_type": "code",
   "execution_count": 160,
   "metadata": {},
   "outputs": [],
   "source": [
    "df = pd.read_csv(\"../data/interim/merged_data.csv\", index_col=[0])"
   ]
  },
  {
   "cell_type": "code",
   "execution_count": 161,
   "metadata": {},
   "outputs": [
    {
     "name": "stdout",
     "output_type": "stream",
     "text": [
      "<class 'pandas.core.frame.DataFrame'>\n",
      "Index: 191859 entries, 0 to 191858\n",
      "Data columns (total 2 columns):\n",
      " #   Column  Non-Null Count   Dtype \n",
      "---  ------  --------------   ----- \n",
      " 0   Artist  191859 non-null  object\n",
      " 1   Lyric   191859 non-null  object\n",
      "dtypes: object(2)\n",
      "memory usage: 4.4+ MB\n"
     ]
    }
   ],
   "source": [
    "df.info()"
   ]
  },
  {
   "cell_type": "code",
   "execution_count": 162,
   "metadata": {},
   "outputs": [
    {
     "data": {
      "text/html": [
       "<div>\n",
       "<style scoped>\n",
       "    .dataframe tbody tr th:only-of-type {\n",
       "        vertical-align: middle;\n",
       "    }\n",
       "\n",
       "    .dataframe tbody tr th {\n",
       "        vertical-align: top;\n",
       "    }\n",
       "\n",
       "    .dataframe thead th {\n",
       "        text-align: right;\n",
       "    }\n",
       "</style>\n",
       "<table border=\"1\" class=\"dataframe\">\n",
       "  <thead>\n",
       "    <tr style=\"text-align: right;\">\n",
       "      <th></th>\n",
       "      <th>Artist</th>\n",
       "      <th>Lyric</th>\n",
       "    </tr>\n",
       "  </thead>\n",
       "  <tbody>\n",
       "    <tr>\n",
       "      <th>0</th>\n",
       "      <td>ivete-sangalo</td>\n",
       "      <td>I feel so unsure\\nAs I take your hand and lead...</td>\n",
       "    </tr>\n",
       "    <tr>\n",
       "      <th>1</th>\n",
       "      <td>ivete-sangalo</td>\n",
       "      <td>Don't let them fool, ya\\nOr even try to school...</td>\n",
       "    </tr>\n",
       "    <tr>\n",
       "      <th>2</th>\n",
       "      <td>ivete-sangalo</td>\n",
       "      <td>Baby, let's cruise, away from here\\nDon't be c...</td>\n",
       "    </tr>\n",
       "    <tr>\n",
       "      <th>3</th>\n",
       "      <td>ivete-sangalo</td>\n",
       "      <td>Know it sounds funny\\nBut, I just can't stand ...</td>\n",
       "    </tr>\n",
       "    <tr>\n",
       "      <th>4</th>\n",
       "      <td>ivete-sangalo</td>\n",
       "      <td>You've got that look again\\nThe one I hoped I ...</td>\n",
       "    </tr>\n",
       "  </tbody>\n",
       "</table>\n",
       "</div>"
      ],
      "text/plain": [
       "          Artist                                              Lyric\n",
       "0  ivete-sangalo  I feel so unsure\\nAs I take your hand and lead...\n",
       "1  ivete-sangalo  Don't let them fool, ya\\nOr even try to school...\n",
       "2  ivete-sangalo  Baby, let's cruise, away from here\\nDon't be c...\n",
       "3  ivete-sangalo  Know it sounds funny\\nBut, I just can't stand ...\n",
       "4  ivete-sangalo  You've got that look again\\nThe one I hoped I ..."
      ]
     },
     "execution_count": 162,
     "metadata": {},
     "output_type": "execute_result"
    }
   ],
   "source": [
    "df.head()"
   ]
  },
  {
   "cell_type": "code",
   "execution_count": 163,
   "metadata": {},
   "outputs": [
    {
     "data": {
      "text/html": [
       "<div>\n",
       "<style scoped>\n",
       "    .dataframe tbody tr th:only-of-type {\n",
       "        vertical-align: middle;\n",
       "    }\n",
       "\n",
       "    .dataframe tbody tr th {\n",
       "        vertical-align: top;\n",
       "    }\n",
       "\n",
       "    .dataframe thead th {\n",
       "        text-align: right;\n",
       "    }\n",
       "</style>\n",
       "<table border=\"1\" class=\"dataframe\">\n",
       "  <thead>\n",
       "    <tr style=\"text-align: right;\">\n",
       "      <th></th>\n",
       "      <th>Artist</th>\n",
       "      <th>Lyric</th>\n",
       "    </tr>\n",
       "  </thead>\n",
       "  <tbody>\n",
       "    <tr>\n",
       "      <th>191854</th>\n",
       "      <td>paul-simon</td>\n",
       "      <td>Hey, Vietnam, Vietnam, Vietnam, Vietnam\\nVietn...</td>\n",
       "    </tr>\n",
       "    <tr>\n",
       "      <th>191855</th>\n",
       "      <td>prince</td>\n",
       "      <td>\\n\\nAll of this and more is for you\\nWith love...</td>\n",
       "    </tr>\n",
       "    <tr>\n",
       "      <th>191856</th>\n",
       "      <td>r-kelly</td>\n",
       "      <td>I hear you callin', \"Here I come baby\"\\nTo sav...</td>\n",
       "    </tr>\n",
       "    <tr>\n",
       "      <th>191857</th>\n",
       "      <td>radiohead</td>\n",
       "      <td>Come on, come on\\nYou think you drive me crazy...</td>\n",
       "    </tr>\n",
       "    <tr>\n",
       "      <th>191858</th>\n",
       "      <td>rihanna</td>\n",
       "      <td>Ghost in the mirror\\nI knew your face once, bu...</td>\n",
       "    </tr>\n",
       "  </tbody>\n",
       "</table>\n",
       "</div>"
      ],
      "text/plain": [
       "            Artist                                              Lyric\n",
       "191854  paul-simon  Hey, Vietnam, Vietnam, Vietnam, Vietnam\\nVietn...\n",
       "191855      prince  \\n\\nAll of this and more is for you\\nWith love...\n",
       "191856     r-kelly  I hear you callin', \"Here I come baby\"\\nTo sav...\n",
       "191857   radiohead  Come on, come on\\nYou think you drive me crazy...\n",
       "191858     rihanna  Ghost in the mirror\\nI knew your face once, bu..."
      ]
     },
     "execution_count": 163,
     "metadata": {},
     "output_type": "execute_result"
    }
   ],
   "source": [
    "df.tail()"
   ]
  },
  {
   "cell_type": "markdown",
   "metadata": {},
   "source": [
    "## Handling new line characters and tab characters\n",
    "The concensus will be to keep new line characters since they have structural meaning in song lyrics. Hopefuly, the model can learn it. New line characters will have a single blank space before and after them to avoid the model treating them as a part of a word. For example: \"on\\nYou\" should be \"on \\n You\". The side effect of this will also be replacing multiple whitelines with single whitelines, replacing multiple \"\\n\" with a single one and striping leading and trailing new line characters.\n",
    "\n",
    "Tab characters can just be replaced with a single whitespace."
   ]
  },
  {
   "cell_type": "markdown",
   "metadata": {},
   "source": [
    "Function to format lyrics."
   ]
  },
  {
   "cell_type": "code",
   "execution_count": 164,
   "metadata": {},
   "outputs": [],
   "source": [
    "def format_lyric(lyric):\n",
    "    # Add leading and trailing whitespace based on newline position.\n",
    "    lyric = lyric.strip('\\n')\n",
    "    # Replace multiple \\n with single \\n.\n",
    "    lyric = re.sub(r'(\\n{2,})', '\\n', lyric)\n",
    "    # Wrap the single \\n with a single leading and trailing whitespace.\n",
    "    if '\\n' in lyric:\n",
    "        lyric = lyric.replace(\"\\n\", \" \\n \")\n",
    "    # Replace \\t with single whitespace.\n",
    "    if \"\\t\" in lyric:\n",
    "        lyric = re.sub(r'(\\t{1,})', ' ', lyric)\n",
    "\n",
    "    # Replace multiple whitespaces with a single whitespace.\n",
    "    lyric = re.sub(\" +\", \" \", lyric)\n",
    "\n",
    "    return lyric"
   ]
  },
  {
   "cell_type": "markdown",
   "metadata": {},
   "source": [
    "Apply the formatting function to the \"Lyric\" column."
   ]
  },
  {
   "cell_type": "code",
   "execution_count": 165,
   "metadata": {},
   "outputs": [],
   "source": [
    "df[\"Lyric\"] = df[\"Lyric\"].apply(format_lyric)"
   ]
  },
  {
   "cell_type": "code",
   "execution_count": 166,
   "metadata": {},
   "outputs": [
    {
     "data": {
      "text/html": [
       "<div>\n",
       "<style scoped>\n",
       "    .dataframe tbody tr th:only-of-type {\n",
       "        vertical-align: middle;\n",
       "    }\n",
       "\n",
       "    .dataframe tbody tr th {\n",
       "        vertical-align: top;\n",
       "    }\n",
       "\n",
       "    .dataframe thead th {\n",
       "        text-align: right;\n",
       "    }\n",
       "</style>\n",
       "<table border=\"1\" class=\"dataframe\">\n",
       "  <thead>\n",
       "    <tr style=\"text-align: right;\">\n",
       "      <th></th>\n",
       "      <th>Artist</th>\n",
       "      <th>Lyric</th>\n",
       "    </tr>\n",
       "  </thead>\n",
       "  <tbody>\n",
       "    <tr>\n",
       "      <th>0</th>\n",
       "      <td>ivete-sangalo</td>\n",
       "      <td>I feel so unsure \\n As I take your hand and le...</td>\n",
       "    </tr>\n",
       "    <tr>\n",
       "      <th>1</th>\n",
       "      <td>ivete-sangalo</td>\n",
       "      <td>Don't let them fool, ya \\n Or even try to scho...</td>\n",
       "    </tr>\n",
       "    <tr>\n",
       "      <th>2</th>\n",
       "      <td>ivete-sangalo</td>\n",
       "      <td>Baby, let's cruise, away from here \\n Don't be...</td>\n",
       "    </tr>\n",
       "    <tr>\n",
       "      <th>3</th>\n",
       "      <td>ivete-sangalo</td>\n",
       "      <td>Know it sounds funny \\n But, I just can't stan...</td>\n",
       "    </tr>\n",
       "    <tr>\n",
       "      <th>4</th>\n",
       "      <td>ivete-sangalo</td>\n",
       "      <td>You've got that look again \\n The one I hoped ...</td>\n",
       "    </tr>\n",
       "  </tbody>\n",
       "</table>\n",
       "</div>"
      ],
      "text/plain": [
       "          Artist                                              Lyric\n",
       "0  ivete-sangalo  I feel so unsure \\n As I take your hand and le...\n",
       "1  ivete-sangalo  Don't let them fool, ya \\n Or even try to scho...\n",
       "2  ivete-sangalo  Baby, let's cruise, away from here \\n Don't be...\n",
       "3  ivete-sangalo  Know it sounds funny \\n But, I just can't stan...\n",
       "4  ivete-sangalo  You've got that look again \\n The one I hoped ..."
      ]
     },
     "execution_count": 166,
     "metadata": {},
     "output_type": "execute_result"
    }
   ],
   "source": [
    "df.head()"
   ]
  },
  {
   "cell_type": "code",
   "execution_count": 167,
   "metadata": {},
   "outputs": [
    {
     "data": {
      "text/html": [
       "<div>\n",
       "<style scoped>\n",
       "    .dataframe tbody tr th:only-of-type {\n",
       "        vertical-align: middle;\n",
       "    }\n",
       "\n",
       "    .dataframe tbody tr th {\n",
       "        vertical-align: top;\n",
       "    }\n",
       "\n",
       "    .dataframe thead th {\n",
       "        text-align: right;\n",
       "    }\n",
       "</style>\n",
       "<table border=\"1\" class=\"dataframe\">\n",
       "  <thead>\n",
       "    <tr style=\"text-align: right;\">\n",
       "      <th></th>\n",
       "      <th>Artist</th>\n",
       "      <th>Lyric</th>\n",
       "    </tr>\n",
       "  </thead>\n",
       "  <tbody>\n",
       "    <tr>\n",
       "      <th>191854</th>\n",
       "      <td>paul-simon</td>\n",
       "      <td>Hey, Vietnam, Vietnam, Vietnam, Vietnam \\n Vie...</td>\n",
       "    </tr>\n",
       "    <tr>\n",
       "      <th>191855</th>\n",
       "      <td>prince</td>\n",
       "      <td>All of this and more is for you \\n With love, ...</td>\n",
       "    </tr>\n",
       "    <tr>\n",
       "      <th>191856</th>\n",
       "      <td>r-kelly</td>\n",
       "      <td>I hear you callin', \"Here I come baby\" \\n To s...</td>\n",
       "    </tr>\n",
       "    <tr>\n",
       "      <th>191857</th>\n",
       "      <td>radiohead</td>\n",
       "      <td>Come on, come on \\n You think you drive me cra...</td>\n",
       "    </tr>\n",
       "    <tr>\n",
       "      <th>191858</th>\n",
       "      <td>rihanna</td>\n",
       "      <td>Ghost in the mirror \\n I knew your face once, ...</td>\n",
       "    </tr>\n",
       "  </tbody>\n",
       "</table>\n",
       "</div>"
      ],
      "text/plain": [
       "            Artist                                              Lyric\n",
       "191854  paul-simon  Hey, Vietnam, Vietnam, Vietnam, Vietnam \\n Vie...\n",
       "191855      prince  All of this and more is for you \\n With love, ...\n",
       "191856     r-kelly  I hear you callin', \"Here I come baby\" \\n To s...\n",
       "191857   radiohead  Come on, come on \\n You think you drive me cra...\n",
       "191858     rihanna  Ghost in the mirror \\n I knew your face once, ..."
      ]
     },
     "execution_count": 167,
     "metadata": {},
     "output_type": "execute_result"
    }
   ],
   "source": [
    "df.tail()"
   ]
  },
  {
   "cell_type": "markdown",
   "metadata": {},
   "source": [
    "## Number of words"
   ]
  },
  {
   "cell_type": "markdown",
   "metadata": {},
   "source": [
    "### Merged dataset"
   ]
  },
  {
   "cell_type": "code",
   "execution_count": 168,
   "metadata": {},
   "outputs": [],
   "source": [
    "df[\"number_of_words\"] = df[\"Lyric\"].apply(lambda x:len(str(x).split()))"
   ]
  },
  {
   "cell_type": "code",
   "execution_count": 169,
   "metadata": {},
   "outputs": [
    {
     "data": {
      "text/html": [
       "<div>\n",
       "<style scoped>\n",
       "    .dataframe tbody tr th:only-of-type {\n",
       "        vertical-align: middle;\n",
       "    }\n",
       "\n",
       "    .dataframe tbody tr th {\n",
       "        vertical-align: top;\n",
       "    }\n",
       "\n",
       "    .dataframe thead th {\n",
       "        text-align: right;\n",
       "    }\n",
       "</style>\n",
       "<table border=\"1\" class=\"dataframe\">\n",
       "  <thead>\n",
       "    <tr style=\"text-align: right;\">\n",
       "      <th></th>\n",
       "      <th>Artist</th>\n",
       "      <th>Lyric</th>\n",
       "      <th>number_of_words</th>\n",
       "    </tr>\n",
       "  </thead>\n",
       "  <tbody>\n",
       "    <tr>\n",
       "      <th>0</th>\n",
       "      <td>ivete-sangalo</td>\n",
       "      <td>I feel so unsure \\n As I take your hand and le...</td>\n",
       "      <td>299</td>\n",
       "    </tr>\n",
       "    <tr>\n",
       "      <th>1</th>\n",
       "      <td>ivete-sangalo</td>\n",
       "      <td>Don't let them fool, ya \\n Or even try to scho...</td>\n",
       "      <td>161</td>\n",
       "    </tr>\n",
       "    <tr>\n",
       "      <th>2</th>\n",
       "      <td>ivete-sangalo</td>\n",
       "      <td>Baby, let's cruise, away from here \\n Don't be...</td>\n",
       "      <td>159</td>\n",
       "    </tr>\n",
       "    <tr>\n",
       "      <th>3</th>\n",
       "      <td>ivete-sangalo</td>\n",
       "      <td>Know it sounds funny \\n But, I just can't stan...</td>\n",
       "      <td>175</td>\n",
       "    </tr>\n",
       "    <tr>\n",
       "      <th>4</th>\n",
       "      <td>ivete-sangalo</td>\n",
       "      <td>You've got that look again \\n The one I hoped ...</td>\n",
       "      <td>215</td>\n",
       "    </tr>\n",
       "  </tbody>\n",
       "</table>\n",
       "</div>"
      ],
      "text/plain": [
       "          Artist                                              Lyric  \\\n",
       "0  ivete-sangalo  I feel so unsure \\n As I take your hand and le...   \n",
       "1  ivete-sangalo  Don't let them fool, ya \\n Or even try to scho...   \n",
       "2  ivete-sangalo  Baby, let's cruise, away from here \\n Don't be...   \n",
       "3  ivete-sangalo  Know it sounds funny \\n But, I just can't stan...   \n",
       "4  ivete-sangalo  You've got that look again \\n The one I hoped ...   \n",
       "\n",
       "   number_of_words  \n",
       "0              299  \n",
       "1              161  \n",
       "2              159  \n",
       "3              175  \n",
       "4              215  "
      ]
     },
     "execution_count": 169,
     "metadata": {},
     "output_type": "execute_result"
    }
   ],
   "source": [
    "df.head()"
   ]
  },
  {
   "cell_type": "markdown",
   "metadata": {},
   "source": [
    "Statistical information."
   ]
  },
  {
   "cell_type": "code",
   "execution_count": 170,
   "metadata": {},
   "outputs": [
    {
     "data": {
      "text/plain": [
       "count    191859.000000\n",
       "mean        257.194794\n",
       "std         596.251168\n",
       "min           1.000000\n",
       "25%         147.000000\n",
       "50%         211.000000\n",
       "75%         304.000000\n",
       "max      132909.000000\n",
       "Name: number_of_words, dtype: float64"
      ]
     },
     "execution_count": 170,
     "metadata": {},
     "output_type": "execute_result"
    }
   ],
   "source": [
    "df[\"number_of_words\"].describe()"
   ]
  },
  {
   "cell_type": "markdown",
   "metadata": {},
   "source": [
    "Standard deviation is big which is explained by the data sources. The csv file had only one song in one row. The text files contain song lyrics from every song of an artist. We will do a statistical analysis on them separately."
   ]
  },
  {
   "cell_type": "markdown",
   "metadata": {},
   "source": [
    "### from_csv.csv dataframe\n",
    "This dataframe contains a single song in each row."
   ]
  },
  {
   "cell_type": "code",
   "execution_count": 171,
   "metadata": {},
   "outputs": [],
   "source": [
    "df_from_csv = pd.read_csv(\"../data/interim/from_csv.csv\", index_col=[0])"
   ]
  },
  {
   "cell_type": "code",
   "execution_count": 172,
   "metadata": {},
   "outputs": [],
   "source": [
    "df_from_csv[\"number_of_words\"] = df_from_csv[\"Lyric\"].apply(lambda x:len(str(x).split()))"
   ]
  },
  {
   "cell_type": "code",
   "execution_count": 173,
   "metadata": {},
   "outputs": [
    {
     "data": {
      "text/html": [
       "<div>\n",
       "<style scoped>\n",
       "    .dataframe tbody tr th:only-of-type {\n",
       "        vertical-align: middle;\n",
       "    }\n",
       "\n",
       "    .dataframe tbody tr th {\n",
       "        vertical-align: top;\n",
       "    }\n",
       "\n",
       "    .dataframe thead th {\n",
       "        text-align: right;\n",
       "    }\n",
       "</style>\n",
       "<table border=\"1\" class=\"dataframe\">\n",
       "  <thead>\n",
       "    <tr style=\"text-align: right;\">\n",
       "      <th></th>\n",
       "      <th>ALink</th>\n",
       "      <th>Lyric</th>\n",
       "      <th>number_of_words</th>\n",
       "    </tr>\n",
       "  </thead>\n",
       "  <tbody>\n",
       "    <tr>\n",
       "      <th>0</th>\n",
       "      <td>ivete-sangalo</td>\n",
       "      <td>I feel so unsure\\nAs I take your hand and lead...</td>\n",
       "      <td>299</td>\n",
       "    </tr>\n",
       "    <tr>\n",
       "      <th>1</th>\n",
       "      <td>ivete-sangalo</td>\n",
       "      <td>Don't let them fool, ya\\nOr even try to school...</td>\n",
       "      <td>161</td>\n",
       "    </tr>\n",
       "    <tr>\n",
       "      <th>2</th>\n",
       "      <td>ivete-sangalo</td>\n",
       "      <td>Baby, let's cruise, away from here\\nDon't be c...</td>\n",
       "      <td>159</td>\n",
       "    </tr>\n",
       "    <tr>\n",
       "      <th>3</th>\n",
       "      <td>ivete-sangalo</td>\n",
       "      <td>Know it sounds funny\\nBut, I just can't stand ...</td>\n",
       "      <td>175</td>\n",
       "    </tr>\n",
       "    <tr>\n",
       "      <th>4</th>\n",
       "      <td>ivete-sangalo</td>\n",
       "      <td>You've got that look again\\nThe one I hoped I ...</td>\n",
       "      <td>215</td>\n",
       "    </tr>\n",
       "  </tbody>\n",
       "</table>\n",
       "</div>"
      ],
      "text/plain": [
       "           ALink                                              Lyric  \\\n",
       "0  ivete-sangalo  I feel so unsure\\nAs I take your hand and lead...   \n",
       "1  ivete-sangalo  Don't let them fool, ya\\nOr even try to school...   \n",
       "2  ivete-sangalo  Baby, let's cruise, away from here\\nDon't be c...   \n",
       "3  ivete-sangalo  Know it sounds funny\\nBut, I just can't stand ...   \n",
       "4  ivete-sangalo  You've got that look again\\nThe one I hoped I ...   \n",
       "\n",
       "   number_of_words  \n",
       "0              299  \n",
       "1              161  \n",
       "2              159  \n",
       "3              175  \n",
       "4              215  "
      ]
     },
     "execution_count": 173,
     "metadata": {},
     "output_type": "execute_result"
    }
   ],
   "source": [
    "df_from_csv.head()"
   ]
  },
  {
   "cell_type": "markdown",
   "metadata": {},
   "source": [
    "Statistical information."
   ]
  },
  {
   "cell_type": "code",
   "execution_count": 174,
   "metadata": {},
   "outputs": [
    {
     "data": {
      "text/plain": [
       "count    191814.000000\n",
       "mean        250.229159\n",
       "std         159.288438\n",
       "min           1.000000\n",
       "25%         147.000000\n",
       "50%         211.000000\n",
       "75%         304.000000\n",
       "max        3422.000000\n",
       "Name: number_of_words, dtype: float64"
      ]
     },
     "execution_count": 174,
     "metadata": {},
     "output_type": "execute_result"
    }
   ],
   "source": [
    "df_from_csv[\"number_of_words\"].describe()"
   ]
  },
  {
   "cell_type": "markdown",
   "metadata": {},
   "source": [
    "The outlier with maximum of 3422 words."
   ]
  },
  {
   "cell_type": "code",
   "execution_count": 175,
   "metadata": {},
   "outputs": [
    {
     "name": "stdout",
     "output_type": "stream",
     "text": [
      "I admit I have made some mistakes\n",
      "And I have some imperfect ways\n",
      "I admit I helped so many people\n",
      "And them same damn people turned fake\n",
      "I admit it was so hard to focus\n",
      "I didn't go to classes\n",
      "I admit that I dropped out of school\n",
      "I admit that I wasn't that cool\n",
      "I admit that I just feel like retiring\n",
      "I admit that I just don't feel like trying\n",
      "But all my real niggas round me\n",
      "keep tellin' me \"Kells, fuck that you gotta keep climbing\"\n",
      "I admit it, I admit it i did, I done fucked with a couple of fans\n",
      "I admit that I'm a gift and a curse\n",
      "I admit that I don't go to church\n",
      "\n",
      "[Chorus]\n",
      "I admit it, admit it (I)\n",
      "I admit it, I did it (I)\n",
      "I admit it, I did (I)\n",
      "I admit it, I did, did it\n",
      "\n",
      "[Verse 2]\n",
      "I admit it i got so many flaws (yeah)\n",
      "Told so many lies to these broads (too many lies)\n",
      "Blew so much money, pop so many bottles\n",
      "yeah I fucked a bitch just because (just because)\n",
      "Nigga, i had a hell of a day\n",
      "but I admit I was in my own way\n",
      "(hell of a day, in my own way)\n",
      "I admit I had my mom crying over me\n",
      "what else can a nigga say (uh)\n",
      "I admit I can't spell for shit\n",
      "I admit that all I hear is hits (ohh)\n",
      "I admit that I couldn't read the teleprompter\n",
      "when the Grammy's asked me to present (yeah)\n",
      "I admit that I love god but wait\n",
      "It's so much temptation but wait\n",
      "And mental, the drinking\n",
      "and smoking too much\n",
      "but it helped me get through the day (oh, day)\n",
      "Won't say no name, I'm not a snitch\n",
      "But one night at the Ritz, did some shit I shouldn't of did\n",
      "(at the Ritz, shouldn't of did)\n",
      "Went and fucked a nigga's bitch\n",
      "I admit, I admit that I did (I did)\n",
      "I fucked my girlfriends bestfriend (oh)\n",
      "Yeah I tapped that in the back of my Benz (my Benz)\n",
      "I admit I'm sorry for my sins (my sins)\n",
      "\n",
      "I admit it, admit it (I admit it)\n",
      "I admit it, I did it (I did it, yeah)\n",
      "I admit it, I did (I)\n",
      "I admit it, I did, did it\n",
      "\n",
      "Yeah, I admit I trust people too much\n",
      "(I trust too much, too much, too much)\n",
      "I admit I can't say such and such\n",
      "But my lawyers told me settle this (settle this)\n",
      "Even though it's bullshit (it's bullshit)\n",
      "Kelly, protect your career\n",
      "All these people in my ear\n",
      "I admit I been tempted by drugs\n",
      "I admit that I just need a hug (I)\n",
      "I admit the devil talk to me sometime\n",
      "but the devil is not who I trust (yeah, not who I trust)\n",
      "I been fucked by so many damn managers\n",
      "while they push me out front of these cameras\n",
      "(managers, cameras)\n",
      "All this music got [?]\n",
      "and now they play me like a fuckin' amateur\n",
      "I got a life, yeah, I got a right, yeah\n",
      "Cancel my shows, that shit ain't right (shows)\n",
      "How they gon' say I don't respect these women\n",
      "when all I've done is represent (30 years)\n",
      "Take my career and turn it upside down\n",
      "'cause you mad I've got some girlfriends (girlfriends)\n",
      "Hell with this record deal\n",
      "it ain't worth this shit forreal (yeah, yeah, that's real)\n",
      "Ain't seen my kids in years\n",
      "they tryna lock me up like Bill (in years, like Bill)\n",
      "How much can a nigga take? How much can a nigga pray?\n",
      "(take, pray)\n",
      "Just wanna do my music, stop stressing me (hell yeah)\n",
      "Please just let me age gracefully (yeah, yeah)\n",
      "\n",
      "I admit it, admit it (I admit it, oh, oh)\n",
      "I admit it, I did it (I admit it)\n",
      "I admit it, I did (I admit it, I did it)\n",
      "I admit it, I did, did it\n",
      "\n",
      "Yeah, they took my gift and they blind me (blind me)\n",
      "Where the fuck is my money? (where)\n",
      "Now here comes this big ass conspiracy\n",
      "But still got my fans, thats a blessing\n",
      "Listen to heaven, just stay on my grind, and that's 24 7\n",
      "(yeah)\n",
      "And I know my mama Joanne is smiling down on me\n",
      "I put that on every\n",
      "Been a grown man since age 11 (11)\n",
      "Mind on the guap since 7 (7)\n",
      "Rest in peace to my homie Kevin\n",
      "\n",
      "I admit it, admit it (I admit it)\n",
      "I admit it, I did it (I did it, yeah)\n",
      "I admit it, I did (I)\n",
      "I admit it, I did, did it\n",
      "\n",
      "I admit, I admit, I'm a freak (freak)\n",
      "Used to go to strip clubs every week\n",
      "But who these niggas tryna say I am, man\n",
      "I'm loud and I put that on chief\n",
      "I admit I fuck with all the ladies\n",
      "that's both older and young ladies (ladies, yeah)\n",
      "But tell me how they call it pedophile\n",
      "because that shit is crazy (crazy)\n",
      "You may have your opinions\n",
      "entitled to your opinions (opinions)\n",
      "But really am I supposed to go to jail\n",
      "or lose my career because of your opinion\n",
      "Yeah, go ahead and stone me\n",
      "point your finger at me (stone me, yeah, yeah)\n",
      "Turn the world against me, but only god can mute me\n",
      "(against me, mute me)\n",
      "I admit that I fired some people (people)\n",
      "I admit that I hired new people (yeah)\n",
      "I admit that those people I fired, on my mama\n",
      "was crooked ass people (yeah, yeah, people)\n",
      "I admit that I don't own my music (I)\n",
      "I admit that I wrote on my music (yeah)\n",
      "Want it back but they don't wanna do it (don't wanna)\n",
      "What the fuck nigga, I wrote that music (I)\n",
      "I did that Bump and Grind, I did that 12 Play\n",
      "I did that Fed Up\n",
      "I changed the damn game, so I deserve me a fair play\n",
      "so put some respect on my damn name (fair)\n",
      "Now remember when you was mad with me?\n",
      "But I ain't never offered her no drink (no drink)\n",
      "But I admit that she asked me, can I get a little Hennessy?\n",
      "(yeah)\n",
      "We both turned off our phone, we drinked\n",
      "out smoked, we talked\n",
      "I admit that I tore it off (our phone, we talked, it off)\n",
      "From my good points to my faults (faults)\n",
      "She said \"What about Aaliyah said? \"\n",
      "Love\n",
      "She said \"What about the tape? \"\n",
      "I said hush\n",
      "I said my lawyer said \"don't say noth'\"\n",
      "But I can tell you I've been set up (up)\n",
      "I admit it, how ever since the first day (first day)\n",
      "That without knowing that I signed my publishin' away (away)\n",
      "I admit it, I was young and caught up and so blind\n",
      "yeah (so blind)\n",
      "Said I had dyslexia, couldn't read all them contracts, yeah\n",
      "Now the truth in this message\n",
      "is I'm a broke ass legend (message, legend)\n",
      "The only reason I stay on tour\n",
      "is 'cause I gotta pay my rent (on tour, my)\n",
      "I never thought it would come to this\n",
      "to be the most disrespected artist (come)\n",
      "So I had to write a song about this\n",
      "'cause they always take my words and twist it (song)\n",
      "Believe me its hard to admit all this\n",
      "but I'm in my feelings about this shit (oh, oh, yeah, yeah)\n",
      "But i had to set the fuckin' record straight, so (yeah, yeah)\n",
      "\n",
      "I admit it, admit it (I admit it)\n",
      "I admit it, I did it (I did it, yeah)\n",
      "I admit it, I did (I)\n",
      "I admit it, I did, did it\n",
      "\n",
      "I admit it, I love Steve Harvey\n",
      "John Legend, and Tom Joyner\n",
      "They're doing good in their lives right now\n",
      "why would they wanna tear down another brother (\n",
      "tear down)\n",
      "Women show black men some love (yeah)\n",
      "'Cause black men, we go through enough (oh)\n",
      "How can we get up off the ground\n",
      "when we steady tearing each other down (how, oh)\n",
      "I admit that the devil is busy (busy)\n",
      "Had some people beside me ain't with me\n",
      "I admit that I'm gon' do this music up\n",
      "until the Lord come and get me (real talk)\n",
      "Now, I admit a family member touched me\n",
      "(touched me, touched me, touched me)\n",
      "From a child to the age 14, yeah\n",
      "While I laid asleep, took my virginity (sleep, gini')\n",
      "So scared to say something, so I just put the blame on me\n",
      "Now here I am, and I'm tryin' my best to be honest (honest)\n",
      "'Cause the sources out there\n",
      "tryna keep me from bein' an artist\n",
      "I admit I'm at rock bottom (oh, oh)\n",
      "And this shit has rocked my mind (my mind)\n",
      "I'm calling on my hood, come walk by my side (my hood, oh)\n",
      "They don't want me to shine, women's group, my god\n",
      "(shine, god)\n",
      "Now don't get it twisted\n",
      "I do support 'em, but why they wanna bring down the [?]\n",
      "Damn, this is breaking my heart (my heart)\n",
      "'Cause from fathers, mothers, sons, and daughters\n",
      "I am part of the music culture (yeah, yeah, oh, oh)\n",
      "Spotify, took me off they playlist (playlist)\n",
      "I admit that I, been underated (rated)\n",
      "I'm not convicted, not arrested\n",
      "my dragged my name in the dirt (nope, oh, yeah, yeah)\n",
      "All this work to be successful\n",
      "when you abandon me 'cause of what you heard\n",
      "(yeah, oh, yeah, heard)\n",
      "I admit that I am not perfect\n",
      "I never said I was perfect (perfect, perfect)\n",
      "Said I'm abusing these women\n",
      "what the fuck that's some absurd shit (what?)\n",
      "They're brainwashed, really? (really)\n",
      "Kidnapped, really? (really)\n",
      "Can't eat, really? (really)\n",
      "Real talk, that shit sound silly (yeah)\n",
      "And if you really, really wanna know (know)\n",
      "Her father dropped her off at my show (show)\n",
      "And told this boy to put her on stage (yeah)\n",
      "I admit that she was over age (age)\n",
      "I admit that I was feelin' her\n",
      "and I admit that she was feelin' me (she was feelin' me)\n",
      "I admit that that's the shit that comes with being a celebrity\n",
      "(celebrity)\n",
      "I ain't chasing these ladies, no (no, no)\n",
      "These ladies are chasing me, yeah (chasing me)\n",
      "Now I'm only saying all this shit\n",
      "cause how they tryna play me, yeah (yeah, oh)\n",
      "I admit that this is no disrespect to the parents\n",
      "(no disrespect)\n",
      "But this is my advice to you\n",
      "'cause I'm also a parent (parent)\n",
      "Don't push your daughter in my face\n",
      "and tell me that it's okay (my face, okay)\n",
      "'Cause your agenda is to get paid, and get mad\n",
      "when it don't go your way (yeah, go way)\n",
      "I know y'all look at me like I don't go through things\n",
      "but I'm human (human)\n",
      "I know it's hard sometimes, but try to keep in mind\n",
      "that I'm human (human)\n",
      "Fuck all the fortune and fame, forget the name\n",
      "I'm a human (human)\n",
      "I can't believe all the under the table shit they doin'\n",
      "(they doin')\n",
      "I'm tired the fingers pointed at me (at me)\n",
      "I'm tired of all this weight on me (on me)\n",
      "I'm tired of everybody wanting a piece of me\n",
      "shit I'm not an ATM machine (yeah, no, hey)\n",
      "What do I do when I can't do what I do? (what)\n",
      "How can I win, when I can't win with truth? (oh)\n",
      "Got a couple of dead homies\n",
      "that I promised would make it out this shit (sorry)\n",
      "And I don't think God's hands is on me nigga\n",
      "I'm gonna make it out this shit\n",
      "No weapon formed against me (amen)\n",
      "Shall prosper (amen)\n",
      "Not claiming (amen)\n",
      "The storms over (amen)\n",
      "I admit I talked to Ms. McGlenn (yeah)\n",
      "FYI, that's my second mother (mama)\n",
      "I admit that I asked her\n",
      "how I'm gonna get the world off my shoulder (oh)\n",
      "She said son, don't you lose it (lose it)\n",
      "Sometimes you gotta go through it (through it)\n",
      "They can say what they say, but at the end of the day\n",
      "they cannot deny your music (oh, woah)\n",
      "'Cause your music, has touched people\n",
      "it inspired, all people (yeah, yeah, yeah, yeah)\n",
      "Overseas, everywhere (yeah, yeah)\n",
      "Don't worry, don't care (care)\n",
      "'Cause the anointed is on you\n",
      "and that's why these haters is at you (on you, at you)\n",
      "So keep on doing you baby\n",
      "you don't have to give these fools an explanation\n",
      "(yeah, yeah, oh)\n",
      "\n",
      "I admit it, admit it (I admit it)\n",
      "I admit it, I did it (I did it, yeah)\n",
      "I admit it, I did (I)\n",
      "I admit it, I did, did it\n",
      "\n",
      "What's the definition of a cult?\n",
      "Whats the definition of a sex slave?\n",
      "Go to the dictionary, look it up\n",
      "Let me know I'll be here waiting\n",
      "Now I admit that I got some girls that love me\n",
      "to pull they hair (they hair)\n",
      "Now I admit that they love me to talk dirty\n",
      "when I pull they hair (they hair)\n",
      "Some like me to spank 'em\n",
      "Some like to get branded\n",
      "And what some of these girls want\n",
      "is too much for the radio station\n",
      "Look I'm just a man y'all (man y'all)\n",
      "Not a monster or beast (no, no)\n",
      "But I admit there are times when these girls so fine\n",
      "they'll chill with a nigga for a week (oh, for a week)\n",
      "Now I admit I love Hugh Hefner (Hugh Hefner)\n",
      "Through the years supported Hugh Hefner (yeah)\n",
      "But when he left this world, he had a million girls\n",
      "but we gon' always love Hugh Hefner (yeah, oh)\n",
      "To Jim DeRogatis, whatever your name is\n",
      "(whatever your name is)\n",
      "You been tryna destroy me for 25 whole years\n",
      "(25 whole years, yeah)\n",
      "Writin' the same stories over and over against\n",
      "(stories, stories, yeah)\n",
      "Off my name, you done went and made yourself a career\n",
      "(a whole career)\n",
      "But guess what? I pray for you and family\n",
      "and all my other enemies (prayed for you, enemies)\n",
      "I'm not gonna let y'all steal my joy\n",
      "I'm just gon' keep on doing me (my joy, doing me)\n",
      "Now I don't know what else to say except\n",
      "I'm so falsely accused\n",
      "Tell me how can you judge\n",
      "when you've never walked in my shoes\n",
      "So easy to mess up, someone else's life\n",
      "So show me the other devil in disguise\n",
      "I admit I miss my brothers (brothers)\n",
      "But I admit they weren't acting like brothers (brothers)\n",
      "Yeah, we've had our differences\n",
      "but you don't turn on your brother (no)\n",
      "For nothing, for no one, nada, mama, Joanne, is watching\n",
      "(no, no, no, no, no)\n",
      "She must be turning over in her grave (yeah)\n",
      "I admit I had to borrow a couple of M's from the label (label)\n",
      "All these hits out but I couldn't put food on the table (table)\n",
      "I was told I had to sell my cars\n",
      "I was told I couldn't get a loan (cars, loans)\n",
      "Said I owed 20 million to the IRS\n",
      "and they were coming to get my home (oh, oh)\n",
      "I admit I was feeling stupid, standing the home wood seats\n",
      "(no disrespect)\n",
      "Sippin' Hennessy, tryna figure out what happened to me\n",
      "(happened to me)\n",
      "There was so much going through my head\n",
      "'cause I knew that something wasn't right\n",
      "(my head, wasn't right)\n",
      "I just couldn't put my finger on it\n",
      "but my spirit had better eyes (no, better)\n",
      "It told me what it saw\n",
      "and it scared the shit out of me (saw, me, yeah)\n",
      "It said get rid of them all\n",
      "it's nothing but vultures round me (all, me)\n",
      "I admit that I love my fans\n",
      "for all the push and support they've shown (my fans)\n",
      "I admit if it wasn't for them\n",
      "I wouldn't have never stayed strong (for them, oh)\n",
      "Now I'm not trippin' on all of these rumors\n",
      "that don't bother me\n",
      "And I'm not paying attention to these haters\n",
      "that don't bother me (oh, oh)\n",
      "But what blows me is when certain people turn phony\n",
      "(phony)\n",
      "They say Rob, \"I got your back\", Rob, \"you the man\"\n",
      "But they really doubting me, bitch you know who you are\n",
      "Bitch I bought you a car, bitch you stayed in my crib\n",
      "(yeah, yeah)\n",
      "I loved you with all my heart (my heart)\n",
      "Now I don't like to brag when it comes to me\n",
      "but I've given back to the community\n",
      "(comes to me, community)\n",
      "From the non profit to the charities\n",
      "but of course you never hear that about me\n",
      "(charities, about me)\n",
      "To them niggas that drink my liquor and smoke my stogies\n",
      "How come you ain't on Facebook pickin' up for me\n",
      "While you round me most of the day\n",
      "when you know I'm a good brother\n",
      "Always got your hands out\n",
      "it ain't no doubt that y'all niggas ain't nothing\n",
      "but blood suckas (yeah)\n",
      "'Cause y'all ain't bringing nothing to the table (no, no)\n",
      "Yeah nigga, and you know it's real talk (real talk)\n",
      "Taking pictures with me for your Instagram\n",
      "but when I need you, you quick to get lost (can't find you)\n",
      "Mm, ohh, mm, oh, oh, oh, no, no, ooh, woah\n",
      "Robert, Jay, and Joanne, my kids\n",
      "What you hearin' out here about dad\n",
      "guys I'm sorry for this (sorry)\n",
      "I'm so sorry, I can't imagine\n",
      "what y'all must be going through (oh, through)\n",
      "Everyday it's somethin' about me, my god\n",
      "it must be killin' you (killin' you)\n",
      "I promise there'll be better days, just keep walkin' straight\n",
      "(there'll be better days, just keep walkin' straight)\n",
      "I know you must be worried but just know that I'm okay\n",
      "(oh, I'm okay)\n",
      "For me, things has gone rough (rough)\n",
      "Right now I can't say too much (say too much)\n",
      "But for y'all I will stay tough (oh, oh)\n",
      "Daddy just need y'all to trust, and believe in me\n",
      "(trust, in me)\n",
      "I admit that I told the truth (told the truth)\n",
      "And still not free\n",
      "Still won't hate me (yeah)\n",
      "Still won't stone me (stone me, yeah)\n",
      "Still won't chain me (chain me, yeah)\n",
      "I think they won't kill me\n",
      "\n",
      "I admit it, admit it (I admit it)\n",
      "I admit it, I did it (I did it, yeah)\n",
      "I admit it, I did (I)\n",
      "I admit it, I did, did it\n",
      "\n",
      "Now, no disrespect to Chi-Town, my home (my home)\n",
      "But we've got to learn how to support our own (our own)\n",
      "I admit that my heart cries for my city (my city)\n",
      "'Cause we're losing young lives in our city (my city)\n",
      "Instead of judging me, y'all should be using me\n",
      "(judging me, using me)\n",
      "To help these kids\n",
      "raise them out of depression and poverty (oh, oh)\n",
      "Now I'm not saying I'm no savior\n",
      "but I can be an inspiration (no savior, inspiration)\n",
      "This is an invitation\n",
      "Man I admit I go through so much day to day (day to day)\n",
      "Got 23 lawyers, 3 or 4 managers, what am I doing?\n",
      "Show me the way (oh)\n",
      "The only thing I have left is my voice\n",
      "and now I have to use it for my protection (my voice, yeah)\n",
      "'Cause they left me no choice (no choice)\n",
      "See my work has nothing to do with my private life\n",
      "So stay the fuck out of my business\n",
      "and tend to your own damn life (life)\n",
      "So go head and say what you want to say\n",
      "about who I want to date (want to say, I want to date)\n",
      "But you won't say that shit to my face\n",
      "'cause you know it ain't no shit to say (to my face, oh, oh)\n",
      "Next nigga bring me some dumb shit\n",
      "is gon' end up a misunderstanding (dumb shit, yeah)\n",
      "'Cause niggas they listen to dumb shit (dumb shit)\n",
      "A niggas that be on that dumb shit (dumb shit)\n",
      "They need a life 'cause they ain't got no life\n",
      "so they always come through with them dumb shit\n",
      "Blockin' my path, they don't know the half\n",
      "so they makin' assumptions (path, half, assumptions)\n",
      "Since when do assumptions\n",
      "cost a man his whole career (since when? whole career)\n",
      "Found guilty when you're innocent, is the only time [?]\n",
      "There is one thing that's for sure\n",
      "and I want to make this shit clear (for sure, clear)\n",
      "I done lived my voice\n",
      "and represented my country for 31 fuckin' years\n",
      "(yeah, yeah, yeah)\n",
      "Damn it I admit\n",
      "\n",
      "I admit, I admit, I admit (yeah)\n",
      "I admit, I admit, I admit (yeah)\n"
     ]
    }
   ],
   "source": [
    "print(df_from_csv[df_from_csv[\"number_of_words\"] == 3422][\"Lyric\"].values[0])"
   ]
  },
  {
   "cell_type": "markdown",
   "metadata": {},
   "source": [
    "The outlier with a minimum of 1 word. It will be removed since it holds no information."
   ]
  },
  {
   "cell_type": "code",
   "execution_count": 176,
   "metadata": {},
   "outputs": [
    {
     "data": {
      "text/plain": [
       "42588      [Gibberish]\n",
       "43643     Satisfaction\n",
       "191731      [Applause]\n",
       "Name: Lyric, dtype: object"
      ]
     },
     "execution_count": 176,
     "metadata": {},
     "output_type": "execute_result"
    }
   ],
   "source": [
    "df_from_csv[df_from_csv[\"number_of_words\"] == 1][\"Lyric\"]"
   ]
  },
  {
   "cell_type": "markdown",
   "metadata": {},
   "source": [
    "Frequency distribution of number of words."
   ]
  },
  {
   "cell_type": "code",
   "execution_count": 177,
   "metadata": {},
   "outputs": [
    {
     "data": {
      "image/png": "[encoded data removed]",
      "text/plain": [
       "<Figure size 1200x600 with 1 Axes>"
      ]
     },
     "metadata": {},
     "output_type": "display_data"
    }
   ],
   "source": [
    "plt.style.use('ggplot')\n",
    "plt.figure(figsize=(12,6))\n",
    "sns.distplot(df_from_csv[\"number_of_words\"],kde = False,color=\"red\",bins=200)\n",
    "plt.title(\"Frequency distribution of number of words from csv dataframe.\", size=20);"
   ]
  },
  {
   "cell_type": "markdown",
   "metadata": {},
   "source": [
    "Boxplot of number of words."
   ]
  },
  {
   "cell_type": "code",
   "execution_count": 178,
   "metadata": {},
   "outputs": [
    {
     "data": {
      "image/png": "[encoded data removed]",
      "text/plain": [
       "<Figure size 1200x600 with 1 Axes>"
      ]
     },
     "metadata": {},
     "output_type": "display_data"
    }
   ],
   "source": [
    "plt.style.use('ggplot')\n",
    "plt.figure(figsize=(12, 6))\n",
    "sns.boxplot(x=\"number_of_words\", data=df_from_csv, color=\"red\")\n",
    "plt.title(\"Boxplot of number of words from csv dataframe.\", size=20);\n",
    "plt.show();"
   ]
  },
  {
   "cell_type": "markdown",
   "metadata": {},
   "source": [
    "### from_txt.csv dataframe\n",
    "This dataframe contains all lyrics of an artist in a single row."
   ]
  },
  {
   "cell_type": "code",
   "execution_count": 179,
   "metadata": {},
   "outputs": [],
   "source": [
    "df_from_txt = pd.read_csv(\"../data/interim/from_txt.csv\", index_col=[0])"
   ]
  },
  {
   "cell_type": "code",
   "execution_count": 180,
   "metadata": {},
   "outputs": [],
   "source": [
    "df_from_txt[\"number_of_words\"] = df_from_txt[\"Lyric\"].apply(lambda x:len(str(x).split()))"
   ]
  },
  {
   "cell_type": "code",
   "execution_count": 181,
   "metadata": {},
   "outputs": [
    {
     "data": {
      "text/html": [
       "<div>\n",
       "<style scoped>\n",
       "    .dataframe tbody tr th:only-of-type {\n",
       "        vertical-align: middle;\n",
       "    }\n",
       "\n",
       "    .dataframe tbody tr th {\n",
       "        vertical-align: top;\n",
       "    }\n",
       "\n",
       "    .dataframe thead th {\n",
       "        text-align: right;\n",
       "    }\n",
       "</style>\n",
       "<table border=\"1\" class=\"dataframe\">\n",
       "  <thead>\n",
       "    <tr style=\"text-align: right;\">\n",
       "      <th></th>\n",
       "      <th>ALink</th>\n",
       "      <th>Lyric</th>\n",
       "      <th>number_of_words</th>\n",
       "    </tr>\n",
       "  </thead>\n",
       "  <tbody>\n",
       "    <tr>\n",
       "      <th>0</th>\n",
       "      <td>adele</td>\n",
       "      <td>Looking for some education\\nMade my way into t...</td>\n",
       "      <td>18978</td>\n",
       "    </tr>\n",
       "    <tr>\n",
       "      <th>1</th>\n",
       "      <td>al-green</td>\n",
       "      <td>Let's stay together I, I'm I'm so in love with...</td>\n",
       "      <td>16637</td>\n",
       "    </tr>\n",
       "    <tr>\n",
       "      <th>2</th>\n",
       "      <td>alicia-keys</td>\n",
       "      <td>Ooh....... New York x2 Grew up in a town that ...</td>\n",
       "      <td>23241</td>\n",
       "    </tr>\n",
       "    <tr>\n",
       "      <th>3</th>\n",
       "      <td>amy-winehouse</td>\n",
       "      <td>Build your dreams to the stars above\\nBut when...</td>\n",
       "      <td>15604</td>\n",
       "    </tr>\n",
       "    <tr>\n",
       "      <th>4</th>\n",
       "      <td>beatles</td>\n",
       "      <td>Yesterday, all my troubles seemed so far away\\...</td>\n",
       "      <td>14340</td>\n",
       "    </tr>\n",
       "  </tbody>\n",
       "</table>\n",
       "</div>"
      ],
      "text/plain": [
       "           ALink                                              Lyric  \\\n",
       "0          adele  Looking for some education\\nMade my way into t...   \n",
       "1       al-green  Let's stay together I, I'm I'm so in love with...   \n",
       "2    alicia-keys  Ooh....... New York x2 Grew up in a town that ...   \n",
       "3  amy-winehouse  Build your dreams to the stars above\\nBut when...   \n",
       "4        beatles  Yesterday, all my troubles seemed so far away\\...   \n",
       "\n",
       "   number_of_words  \n",
       "0            18978  \n",
       "1            16637  \n",
       "2            23241  \n",
       "3            15604  \n",
       "4            14340  "
      ]
     },
     "execution_count": 181,
     "metadata": {},
     "output_type": "execute_result"
    }
   ],
   "source": [
    "df_from_txt.head()"
   ]
  },
  {
   "cell_type": "markdown",
   "metadata": {},
   "source": [
    "Statistical information."
   ]
  },
  {
   "cell_type": "code",
   "execution_count": 182,
   "metadata": {},
   "outputs": [
    {
     "data": {
      "text/plain": [
       "count        45.000000\n",
       "mean      29948.444444\n",
       "std       23189.770213\n",
       "min        6343.000000\n",
       "25%       16100.000000\n",
       "50%       21471.000000\n",
       "75%       38203.000000\n",
       "max      132909.000000\n",
       "Name: number_of_words, dtype: float64"
      ]
     },
     "execution_count": 182,
     "metadata": {},
     "output_type": "execute_result"
    }
   ],
   "source": [
    "df_from_txt[\"number_of_words\"].describe()"
   ]
  },
  {
   "cell_type": "code",
   "execution_count": 183,
   "metadata": {},
   "outputs": [
    {
     "data": {
      "text/html": [
       "<div>\n",
       "<style scoped>\n",
       "    .dataframe tbody tr th:only-of-type {\n",
       "        vertical-align: middle;\n",
       "    }\n",
       "\n",
       "    .dataframe tbody tr th {\n",
       "        vertical-align: top;\n",
       "    }\n",
       "\n",
       "    .dataframe thead th {\n",
       "        text-align: right;\n",
       "    }\n",
       "</style>\n",
       "<table border=\"1\" class=\"dataframe\">\n",
       "  <thead>\n",
       "    <tr style=\"text-align: right;\">\n",
       "      <th></th>\n",
       "      <th>ALink</th>\n",
       "      <th>Lyric</th>\n",
       "      <th>number_of_words</th>\n",
       "    </tr>\n",
       "  </thead>\n",
       "  <tbody>\n",
       "    <tr>\n",
       "      <th>16</th>\n",
       "      <td>dj-khaled</td>\n",
       "      <td>Another one\\nWe The Best music\\nDJ Khaled I do...</td>\n",
       "      <td>47870</td>\n",
       "    </tr>\n",
       "    <tr>\n",
       "      <th>19</th>\n",
       "      <td>drake</td>\n",
       "      <td>[Hook]\\nI've been down so long, it look like u...</td>\n",
       "      <td>40280</td>\n",
       "    </tr>\n",
       "    <tr>\n",
       "      <th>20</th>\n",
       "      <td>eminem</td>\n",
       "      <td>Look, I was gonna go easy on you and not to hu...</td>\n",
       "      <td>64483</td>\n",
       "    </tr>\n",
       "    <tr>\n",
       "      <th>25</th>\n",
       "      <td>kanye-west</td>\n",
       "      <td>﻿Let the suicide doors up\\nI threw suicides on...</td>\n",
       "      <td>132909</td>\n",
       "    </tr>\n",
       "    <tr>\n",
       "      <th>28</th>\n",
       "      <td>lil-wayne</td>\n",
       "      <td>I bought my first key from my baby momma broth...</td>\n",
       "      <td>47736</td>\n",
       "    </tr>\n",
       "    <tr>\n",
       "      <th>31</th>\n",
       "      <td>ludacris</td>\n",
       "      <td>Aw yeah, yeah\\nI mean there's a lot of women o...</td>\n",
       "      <td>47087</td>\n",
       "    </tr>\n",
       "    <tr>\n",
       "      <th>32</th>\n",
       "      <td>michael-jackson</td>\n",
       "      <td>\\n\\n[Spoken Intro:]\\nYou ever want something \\...</td>\n",
       "      <td>49720</td>\n",
       "    </tr>\n",
       "    <tr>\n",
       "      <th>33</th>\n",
       "      <td>missy-elliott</td>\n",
       "      <td>I'mma start it from the bottom\\nI'll show you ...</td>\n",
       "      <td>39105</td>\n",
       "    </tr>\n",
       "    <tr>\n",
       "      <th>35</th>\n",
       "      <td>nicki-minaj</td>\n",
       "      <td>[:Nicki Minaj]\\nYoung money [Verse 1: Jason De...</td>\n",
       "      <td>42483</td>\n",
       "    </tr>\n",
       "    <tr>\n",
       "      <th>37</th>\n",
       "      <td>notorious-big</td>\n",
       "      <td>﻿baby It was all a dream\\nI used to read Word ...</td>\n",
       "      <td>92619</td>\n",
       "    </tr>\n",
       "    <tr>\n",
       "      <th>41</th>\n",
       "      <td>prince</td>\n",
       "      <td>\\n\\nAll of this and more is for you\\nWith love...</td>\n",
       "      <td>62774</td>\n",
       "    </tr>\n",
       "  </tbody>\n",
       "</table>\n",
       "</div>"
      ],
      "text/plain": [
       "              ALink                                              Lyric  \\\n",
       "16        dj-khaled  Another one\\nWe The Best music\\nDJ Khaled I do...   \n",
       "19            drake  [Hook]\\nI've been down so long, it look like u...   \n",
       "20           eminem  Look, I was gonna go easy on you and not to hu...   \n",
       "25       kanye-west  ﻿Let the suicide doors up\\nI threw suicides on...   \n",
       "28        lil-wayne  I bought my first key from my baby momma broth...   \n",
       "31         ludacris  Aw yeah, yeah\\nI mean there's a lot of women o...   \n",
       "32  michael-jackson  \\n\\n[Spoken Intro:]\\nYou ever want something \\...   \n",
       "33    missy-elliott  I'mma start it from the bottom\\nI'll show you ...   \n",
       "35      nicki-minaj  [:Nicki Minaj]\\nYoung money [Verse 1: Jason De...   \n",
       "37    notorious-big  ﻿baby It was all a dream\\nI used to read Word ...   \n",
       "41           prince  \\n\\nAll of this and more is for you\\nWith love...   \n",
       "\n",
       "    number_of_words  \n",
       "16            47870  \n",
       "19            40280  \n",
       "20            64483  \n",
       "25           132909  \n",
       "28            47736  \n",
       "31            47087  \n",
       "32            49720  \n",
       "33            39105  \n",
       "35            42483  \n",
       "37            92619  \n",
       "41            62774  "
      ]
     },
     "execution_count": 183,
     "metadata": {},
     "output_type": "execute_result"
    }
   ],
   "source": [
    "df_from_txt[df_from_txt[\"number_of_words\"] > 38203]"
   ]
  },
  {
   "cell_type": "markdown",
   "metadata": {},
   "source": [
    "There are 11 outliers.\n",
    "\n",
    "The artist which has the most number of words is Kanye West. This is explained by our actions in the dataset modeling step: we combined 3 text files of Kanye's lyrics into one file. "
   ]
  },
  {
   "cell_type": "markdown",
   "metadata": {},
   "source": [
    "Frequency distribution of number of words without the outlier."
   ]
  },
  {
   "cell_type": "code",
   "execution_count": 184,
   "metadata": {},
   "outputs": [
    {
     "data": {
      "image/png": "[encoded data removed]",
      "text/plain": [
       "<Figure size 1200x600 with 1 Axes>"
      ]
     },
     "metadata": {},
     "output_type": "display_data"
    }
   ],
   "source": [
    "plt.style.use('ggplot')\n",
    "plt.figure(figsize=(12,6))\n",
    "sns.distplot(df_from_txt[\"number_of_words\"],kde = False,color=\"red\",bins=200)\n",
    "plt.title(\"Frequency distribution of number of words from txt dataframe.\", size=20);"
   ]
  },
  {
   "cell_type": "markdown",
   "metadata": {},
   "source": [
    "Boxplot of number of words."
   ]
  },
  {
   "cell_type": "code",
   "execution_count": 185,
   "metadata": {},
   "outputs": [
    {
     "data": {
      "image/png": "[encoded data removed]",
      "text/plain": [
       "<Figure size 1200x600 with 1 Axes>"
      ]
     },
     "metadata": {},
     "output_type": "display_data"
    }
   ],
   "source": [
    "plt.style.use('ggplot')\n",
    "plt.figure(figsize=(12, 6))\n",
    "sns.boxplot(x=\"number_of_words\", data=df_from_txt, color=\"red\")\n",
    "plt.title(\"Boxplot of number of words from txt dataframe.\", size=20);\n",
    "plt.show();"
   ]
  },
  {
   "cell_type": "markdown",
   "metadata": {},
   "source": [
    "## Special characters and annotations\n",
    "We've noticed the occurance of special characters like !, \", ?, etc. We need to be sure every symbol is meaningful. We've also noticed annotations like [Hook] in the txt dataframe. We'd like to clean those."
   ]
  },
  {
   "cell_type": "code",
   "execution_count": 186,
   "metadata": {},
   "outputs": [
    {
     "data": {
      "text/plain": [
       "{'\\n',\n",
       " ' ',\n",
       " '!',\n",
       " '\"',\n",
       " '#',\n",
       " '$',\n",
       " '%',\n",
       " '&',\n",
       " \"'\",\n",
       " '(',\n",
       " ')',\n",
       " '*',\n",
       " '+',\n",
       " ',',\n",
       " '-',\n",
       " '.',\n",
       " '/',\n",
       " ':',\n",
       " ';',\n",
       " '<',\n",
       " '=',\n",
       " '>',\n",
       " '?',\n",
       " '@',\n",
       " '[',\n",
       " '\\\\',\n",
       " ']',\n",
       " '^',\n",
       " '_',\n",
       " '`',\n",
       " '{',\n",
       " '|',\n",
       " '}',\n",
       " '~',\n",
       " '\\x7f'}"
      ]
     },
     "execution_count": 186,
     "metadata": {},
     "output_type": "execute_result"
    }
   ],
   "source": [
    "special_chars = set()\n",
    "\n",
    "def find_special_characters(row):\n",
    "    for char in row[\"Lyric\"]:\n",
    "        if not char.isalnum() and char.isascii():\n",
    "            if char not in special_chars:\n",
    "                special_chars.add(char)\n",
    "\n",
    "df.apply(find_special_characters, axis=1)\n",
    "special_chars"
   ]
  },
  {
   "cell_type": "markdown",
   "metadata": {},
   "source": [
    "Let's look at some symbols we usually don't expect to appear in song lyrics."
   ]
  },
  {
   "cell_type": "code",
   "execution_count": 187,
   "metadata": {},
   "outputs": [
    {
     "name": "stdout",
     "output_type": "stream",
     "text": [
      "673       Yea Its 50 \\n 1 shot 1 kill whats the deal, ye...\n",
      "679       Yeah... Shady... Aftermath... G-Unit \\n Damn b...\n",
      "714       Mary~ \\n now if i give ya all of me what ya go...\n",
      "796       50 Cent 1#: \\n Shorty I got a thang for that t...\n",
      "920       \"London Girl\" \\n [Intro: 50 Cent] \\n Ay, ay qu...\n",
      "                                ...                        \n",
      "190263    On this half lit day \\n With your crown beneat...\n",
      "190808    [Bridgtte] \\n The strings of my heart \\n are a...\n",
      "191840    I'll undress you, 'cause you're tired \\n Cover...\n",
      "191846    [Spoken Intro:] \\n You ever want something \\n ...\n",
      "191851    ﻿baby It was all a dream \\n I used to read Wor...\n",
      "Name: Lyric, Length: 563, dtype: object\n"
     ]
    }
   ],
   "source": [
    "print(df[df[\"Lyric\"].str.contains(\"#\")][\"Lyric\"])"
   ]
  },
  {
   "cell_type": "markdown",
   "metadata": {},
   "source": [
    "By further inspecting the lyrics, we concluded that \"#\" is meaningful and is used in approved situations."
   ]
  },
  {
   "cell_type": "code",
   "execution_count": 188,
   "metadata": {},
   "outputs": [
    {
     "name": "stdout",
     "output_type": "stream",
     "text": [
      "734       yo we cant stay alive forever so till shit hit...\n",
      "868       [Madd Rapper] \\n The art of getting robbed \\n ...\n",
      "869       [Madd Rapper] \\n You know who this is boi 4 re...\n",
      "998       No it don't fuckin matter, \\n we gonna do it m...\n",
      "1893      Wow, we in stereo? \\n Question for the ages \\n...\n",
      "                                ...                        \n",
      "190515    (can you feel that?) \\n (oh, shit) \\n O-WA-A-A...\n",
      "190689    Let's go to the mall, everybody! \\n Come on Je...\n",
      "191433    Tricky : lets just record... \\n Rza: \\n Aarrgh...\n",
      "191852    THE QUEEN _of_ HEARTS \\n The Queen of Hearts s...\n",
      "191854    Hey, Vietnam, Vietnam, Vietnam, Vietnam \\n Vie...\n",
      "Name: Lyric, Length: 824, dtype: object\n"
     ]
    }
   ],
   "source": [
    "print(df[df[\"Lyric\"].str.contains(\"_\")][\"Lyric\"])"
   ]
  },
  {
   "cell_type": "markdown",
   "metadata": {},
   "source": [
    "In this example \"_\" appears in \"Corrigido Por ExTrEmE_Z\" which is from the page that the data source was collected from."
   ]
  },
  {
   "cell_type": "code",
   "execution_count": 189,
   "metadata": {},
   "outputs": [
    {
     "name": "stdout",
     "output_type": "stream",
     "text": [
      "OK. Oh no! not you! What are you doing here? \n",
      " Oh boys it's gonna be hard now... Can we put him in the back? \n",
      " Robin, Robin, Robin... \n",
      " I used to get dressed for you all, now I donæŠ° do that no more, I'm sorry...it's \n",
      " a new day, I know he have the energy... Am I a joke? \n",
      " OK so, ah... these are brand new songs, that a very few people have heard hmm \n",
      " very much about... you know, whatever... I been going trough and what I been \n",
      " learning lot of her, wonderful life lessons, you know, that are easy to combine \n",
      " but you're very blessed after you realize why you had to go trough what you had \n",
      " to go trough... is it very important that you really listen to the words, you \n",
      " know, and if you have a hard time to hear what I'm said please rise your hand \n",
      " you know something objected... whatever... you guys ready on air? (All set) OK \n",
      " ...and I... you know, It's really interesting because I use to...I use to be a \n",
      " performer, and I really don't consider myself a performer so much anymore, I'm \n",
      " really just... you know I'm sharing... you know... more last the music that \n",
      " I've been giving, but if a stop, if a start, if a... you know... feels like \n",
      " saying ''baby, baby, baby'' for... heighten boozes... whatever... you know... \n",
      " I justI do that, but IæŠ¦Ok \n",
      " You guys are cold? [Yeah!] Ok IæŠ¦ talking to people on my head too, itæŠ¯ all \n",
      " right doc? This is worth my ??ape lope??. Finish sucking my LozengeThis \n",
      " particular song is called æ—r. Intentionalwill see, we tune that nowthis is\n"
     ]
    }
   ],
   "source": [
    "print(df[df[\"Lyric\"].str.contains(\"\\x7f\")][\"Lyric\"][5109])"
   ]
  },
  {
   "cell_type": "markdown",
   "metadata": {},
   "source": [
    "While inspecting the special characters we've seen that their appearance ih highly variable and it's impossible to cover each case programatically. Some examples are: signatures, emails, abbrevations, binary code for characters, etc. The dataset needs to be filtered with a hands-on approach because a general rule is hard to divise without inflicting useful information (for example: #1 is used in 50cent's songs as an abbrivation of number one)."
   ]
  },
  {
   "cell_type": "markdown",
   "metadata": {},
   "source": [
    "## Number of words balancing\n",
    "There is a huge discrepancy in the number of words in the dataset. One part of the dataset is built from a csv file which has a row for each song, while the other one is built from text files where each text file belongs to one author and contains all of the author's song lyrics.\n",
    "We'd like to balance out this. Our approach would be breaking the rows into smaller rows. The size will be the mean of words from the rows which were built from th csv file."
   ]
  },
  {
   "cell_type": "markdown",
   "metadata": {},
   "source": [
    "The mean number of words in the csv dataframe is 250.22 so we'll take 250. The maximum number of words in this dataframe is 3422 which is less than the minimum number of words in the text datafame (6343)."
   ]
  },
  {
   "cell_type": "code",
   "execution_count": 190,
   "metadata": {},
   "outputs": [],
   "source": [
    "df_balancing = df[df[\"number_of_words\"] > 3422]\n",
    "df_balancing.reset_index(drop=True, inplace=True)"
   ]
  },
  {
   "cell_type": "code",
   "execution_count": 191,
   "metadata": {},
   "outputs": [],
   "source": [
    "def split_lyrics(row, chunk_size=250):\n",
    "    lyrics = row[\"Lyric\"].split(\" \\n \")\n",
    "    lines = [line for line in lyrics]\n",
    "    for i in range(len(lines)):\n",
    "        if i!=len(lines):\n",
    "            lines[i] = lines[i] + \" \\n\"\n",
    "    new_rows = []\n",
    "    current_row = \"\"\n",
    "    for line in lines:\n",
    "        words = line.split(\" \")\n",
    "        for word in words:\n",
    "            word_lenght = 0\n",
    "            if word[-2:] != \"\\n\":\n",
    "                word_lenght = len(word)\n",
    "            else:\n",
    "                word_lenght = len(word) - 2\n",
    "            if len(current_row.split(\" \")) + word_lenght < chunk_size:\n",
    "                current_row += word + \" \"\n",
    "            else:\n",
    "                new_rows.append({\"Artist\": row[\"Artist\"], \"Lyric\": current_row[:-1]})\n",
    "                current_row = word + \" \"\n",
    "    if len(current_row) > 0:\n",
    "        new_rows.append({\"Artist\": row[\"Artist\"], \"Lyric\": current_row})\n",
    "    \n",
    "    return new_rows"
   ]
  },
  {
   "cell_type": "code",
   "execution_count": 192,
   "metadata": {},
   "outputs": [],
   "source": [
    "new_rows = []\n",
    "for idx, row in df_balancing.iterrows():\n",
    "    new_rows.extend(split_lyrics(row))\n",
    "new_rows = pd.DataFrame(new_rows, columns=[\"Artist\", \"Lyric\"])"
   ]
  },
  {
   "cell_type": "markdown",
   "metadata": {},
   "source": [
    "Statistical information."
   ]
  },
  {
   "cell_type": "code",
   "execution_count": 193,
   "metadata": {},
   "outputs": [
    {
     "data": {
      "text/plain": [
       "count    6260.000000\n",
       "mean      215.284345\n",
       "std        12.279549\n",
       "min         1.000000\n",
       "25%       212.000000\n",
       "50%       217.000000\n",
       "75%       221.000000\n",
       "max       242.000000\n",
       "Name: number_of_words, dtype: float64"
      ]
     },
     "execution_count": 193,
     "metadata": {},
     "output_type": "execute_result"
    }
   ],
   "source": [
    "new_rows[\"number_of_words\"] = new_rows[\"Lyric\"].apply(lambda x:len(str(x).split()))\n",
    "new_rows[\"number_of_words\"].describe()"
   ]
  },
  {
   "cell_type": "code",
   "execution_count": 194,
   "metadata": {},
   "outputs": [
    {
     "data": {
      "text/html": [
       "<div>\n",
       "<style scoped>\n",
       "    .dataframe tbody tr th:only-of-type {\n",
       "        vertical-align: middle;\n",
       "    }\n",
       "\n",
       "    .dataframe tbody tr th {\n",
       "        vertical-align: top;\n",
       "    }\n",
       "\n",
       "    .dataframe thead th {\n",
       "        text-align: right;\n",
       "    }\n",
       "</style>\n",
       "<table border=\"1\" class=\"dataframe\">\n",
       "  <thead>\n",
       "    <tr style=\"text-align: right;\">\n",
       "      <th></th>\n",
       "      <th>Artist</th>\n",
       "      <th>Lyric</th>\n",
       "      <th>number_of_words</th>\n",
       "    </tr>\n",
       "  </thead>\n",
       "  <tbody>\n",
       "    <tr>\n",
       "      <th>0</th>\n",
       "      <td>adele</td>\n",
       "      <td>Looking for some education \\n Made my way into...</td>\n",
       "      <td>211</td>\n",
       "    </tr>\n",
       "    <tr>\n",
       "      <th>1</th>\n",
       "      <td>adele</td>\n",
       "      <td>nothing in his eyes \\n I miss my baby \\n Oh I,...</td>\n",
       "      <td>221</td>\n",
       "    </tr>\n",
       "    <tr>\n",
       "      <th>2</th>\n",
       "      <td>adele</td>\n",
       "      <td>that talk \\n And I can know by the way you tre...</td>\n",
       "      <td>220</td>\n",
       "    </tr>\n",
       "    <tr>\n",
       "      <th>3</th>\n",
       "      <td>adele</td>\n",
       "      <td>yesterday was the time of our lives \\n We were...</td>\n",
       "      <td>222</td>\n",
       "    </tr>\n",
       "    <tr>\n",
       "      <th>4</th>\n",
       "      <td>adele</td>\n",
       "      <td>version:] Go 'head and sell me out and I'll la...</td>\n",
       "      <td>220</td>\n",
       "    </tr>\n",
       "  </tbody>\n",
       "</table>\n",
       "</div>"
      ],
      "text/plain": [
       "  Artist                                              Lyric  number_of_words\n",
       "0  adele  Looking for some education \\n Made my way into...              211\n",
       "1  adele  nothing in his eyes \\n I miss my baby \\n Oh I,...              221\n",
       "2  adele  that talk \\n And I can know by the way you tre...              220\n",
       "3  adele  yesterday was the time of our lives \\n We were...              222\n",
       "4  adele  version:] Go 'head and sell me out and I'll la...              220"
      ]
     },
     "execution_count": 194,
     "metadata": {},
     "output_type": "execute_result"
    }
   ],
   "source": [
    "new_rows.head()"
   ]
  },
  {
   "cell_type": "markdown",
   "metadata": {},
   "source": [
    "Frequency distribution of number of words."
   ]
  },
  {
   "cell_type": "code",
   "execution_count": 195,
   "metadata": {},
   "outputs": [
    {
     "data": {
      "image/png": "[encoded data removed]",
      "text/plain": [
       "<Figure size 1200x600 with 1 Axes>"
      ]
     },
     "metadata": {},
     "output_type": "display_data"
    }
   ],
   "source": [
    "plt.style.use('ggplot')\n",
    "plt.figure(figsize=(12,6))\n",
    "sns.distplot(new_rows[\"number_of_words\"], kde = False, color=\"red\", bins=200)\n",
    "plt.title(\"Frequency distribution of number of words from txt dataframe.\", size=20);"
   ]
  },
  {
   "cell_type": "markdown",
   "metadata": {},
   "source": [
    "Boxplot of number of words."
   ]
  },
  {
   "cell_type": "code",
   "execution_count": 196,
   "metadata": {},
   "outputs": [
    {
     "data": {
      "image/png": "[encoded data removed]",
      "text/plain": [
       "<Figure size 1200x600 with 1 Axes>"
      ]
     },
     "metadata": {},
     "output_type": "display_data"
    }
   ],
   "source": [
    "plt.style.use('ggplot')\n",
    "plt.figure(figsize=(12, 6))\n",
    "sns.boxplot(x=\"number_of_words\", data=new_rows, color=\"red\")\n",
    "plt.title(\"Boxplot of number of words from txt dataframe.\", size=20);\n",
    "plt.show();"
   ]
  },
  {
   "cell_type": "code",
   "execution_count": 197,
   "metadata": {},
   "outputs": [],
   "source": [
    "df_part_one = df[df[\"number_of_words\"] <= 3422]\n",
    "df_part_two = new_rows\n",
    "\n",
    "df_part_one.drop([\"number_of_words\"], axis=1)\n",
    "df_part_two.drop([\"number_of_words\"], axis=1)\n",
    "\n",
    "df = pd.concat([df_part_one, df_part_two])\n",
    "df = df.sample(frac=1)\n",
    "df.reset_index(drop=True, inplace=True)"
   ]
  },
  {
   "cell_type": "markdown",
   "metadata": {},
   "source": [
    "Statistical information."
   ]
  },
  {
   "cell_type": "code",
   "execution_count": 198,
   "metadata": {},
   "outputs": [
    {
     "data": {
      "text/plain": [
       "count    198074.000000\n",
       "mean        249.124751\n",
       "std         156.885468\n",
       "min           1.000000\n",
       "25%         149.000000\n",
       "50%         213.000000\n",
       "75%         300.000000\n",
       "max        3422.000000\n",
       "Name: number_of_words, dtype: float64"
      ]
     },
     "execution_count": 198,
     "metadata": {},
     "output_type": "execute_result"
    }
   ],
   "source": [
    "df[\"number_of_words\"] = df[\"Lyric\"].apply(lambda x:len(str(x).split()))\n",
    "df[\"number_of_words\"].describe()"
   ]
  },
  {
   "cell_type": "markdown",
   "metadata": {},
   "source": [
    "Frequency distribution of number of words."
   ]
  },
  {
   "cell_type": "code",
   "execution_count": 199,
   "metadata": {},
   "outputs": [
    {
     "data": {
      "image/png": "[encoded data removed]",
      "text/plain": [
       "<Figure size 1200x600 with 1 Axes>"
      ]
     },
     "metadata": {},
     "output_type": "display_data"
    }
   ],
   "source": [
    "plt.style.use('ggplot')\n",
    "plt.figure(figsize=(12,6))\n",
    "sns.distplot(df[\"number_of_words\"], kde = False, color=\"red\", bins=200)\n",
    "plt.title(\"Frequency distribution of number of words from final dataframe.\", size=20);"
   ]
  },
  {
   "cell_type": "markdown",
   "metadata": {},
   "source": [
    "Boxplot of number of words."
   ]
  },
  {
   "cell_type": "code",
   "execution_count": 200,
   "metadata": {},
   "outputs": [
    {
     "data": {
      "image/png": "[encoded data removed]",
      "text/plain": [
       "<Figure size 1200x600 with 1 Axes>"
      ]
     },
     "metadata": {},
     "output_type": "display_data"
    }
   ],
   "source": [
    "plt.style.use('ggplot')\n",
    "plt.figure(figsize=(12, 6))\n",
    "sns.boxplot(x=\"number_of_words\", data=df, color=\"red\")\n",
    "plt.title(\"Boxplot of number of words from final dataframe.\", size=20);\n",
    "plt.show();"
   ]
  },
  {
   "cell_type": "markdown",
   "metadata": {},
   "source": [
    "The dataset can now be saved as a final processed dataset."
   ]
  }
 ],
 "metadata": {
  "kernelspec": {
   "display_name": "Python 3",
   "language": "python",
   "name": "python3"
  },
  "language_info": {
   "codemirror_mode": {
    "name": "ipython",
    "version": 3
   },
   "file_extension": ".py",
   "mimetype": "text/x-python",
   "name": "python",
   "nbconvert_exporter": "python",
   "pygments_lexer": "ipython3",
   "version": "3.11.6"
  }
 },
 "nbformat": 4,
 "nbformat_minor": 2
}
