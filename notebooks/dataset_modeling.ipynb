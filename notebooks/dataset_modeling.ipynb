{
 "cells": [
  {
   "cell_type": "markdown",
   "metadata": {},
   "source": [
    "# Dataset Modeling\n",
    "We have 2 different data sources:\n",
    "1) csv files containing song information (lyrics-data.csv)\n",
    "2) txt files for each artist, containing the lyrics of their songs\n",
    "\n",
    "The goal is to model those sources into a single dataset for further analysis and preprocessing steps."
   ]
  },
  {
   "cell_type": "code",
   "execution_count": 87,
   "metadata": {},
   "outputs": [],
   "source": [
    "import pandas as pd\n",
    "import os"
   ]
  },
  {
   "cell_type": "markdown",
   "metadata": {},
   "source": [
    "## Prepare each dataframe - one from csv, other from txt"
   ]
  },
  {
   "cell_type": "markdown",
   "metadata": {},
   "source": [
    "### CSV file - lyrics-data.csv"
   ]
  },
  {
   "cell_type": "code",
   "execution_count": 88,
   "metadata": {},
   "outputs": [],
   "source": [
    "df_from_csv = pd.read_csv(\"../data/raw/csv/lyrics-data.csv\")"
   ]
  },
  {
   "cell_type": "code",
   "execution_count": 89,
   "metadata": {},
   "outputs": [
    {
     "data": {
      "text/html": [
       "<div>\n",
       "<style scoped>\n",
       "    .dataframe tbody tr th:only-of-type {\n",
       "        vertical-align: middle;\n",
       "    }\n",
       "\n",
       "    .dataframe tbody tr th {\n",
       "        vertical-align: top;\n",
       "    }\n",
       "\n",
       "    .dataframe thead th {\n",
       "        text-align: right;\n",
       "    }\n",
       "</style>\n",
       "<table border=\"1\" class=\"dataframe\">\n",
       "  <thead>\n",
       "    <tr style=\"text-align: right;\">\n",
       "      <th></th>\n",
       "      <th>ALink</th>\n",
       "      <th>SName</th>\n",
       "      <th>SLink</th>\n",
       "      <th>Lyric</th>\n",
       "      <th>language</th>\n",
       "    </tr>\n",
       "  </thead>\n",
       "  <tbody>\n",
       "    <tr>\n",
       "      <th>0</th>\n",
       "      <td>/ivete-sangalo/</td>\n",
       "      <td>Arerê</td>\n",
       "      <td>/ivete-sangalo/arere.html</td>\n",
       "      <td>Tudo o que eu quero nessa vida,\\nToda vida, é\\...</td>\n",
       "      <td>pt</td>\n",
       "    </tr>\n",
       "    <tr>\n",
       "      <th>1</th>\n",
       "      <td>/ivete-sangalo/</td>\n",
       "      <td>Se Eu Não Te Amasse Tanto Assim</td>\n",
       "      <td>/ivete-sangalo/se-eu-nao-te-amasse-tanto-assim...</td>\n",
       "      <td>Meu coração\\nSem direção\\nVoando só por voar\\n...</td>\n",
       "      <td>pt</td>\n",
       "    </tr>\n",
       "    <tr>\n",
       "      <th>2</th>\n",
       "      <td>/ivete-sangalo/</td>\n",
       "      <td>Céu da Boca</td>\n",
       "      <td>/ivete-sangalo/chupa-toda.html</td>\n",
       "      <td>É de babaixá!\\nÉ de balacubaca!\\nÉ de babaixá!...</td>\n",
       "      <td>pt</td>\n",
       "    </tr>\n",
       "    <tr>\n",
       "      <th>3</th>\n",
       "      <td>/ivete-sangalo/</td>\n",
       "      <td>Quando A Chuva Passar</td>\n",
       "      <td>/ivete-sangalo/quando-a-chuva-passar.html</td>\n",
       "      <td>Quando a chuva passar\\n\\nPra quê falar\\nSe voc...</td>\n",
       "      <td>pt</td>\n",
       "    </tr>\n",
       "    <tr>\n",
       "      <th>4</th>\n",
       "      <td>/ivete-sangalo/</td>\n",
       "      <td>Sorte Grande</td>\n",
       "      <td>/ivete-sangalo/sorte-grande.html</td>\n",
       "      <td>A minha sorte grande foi você cair do céu\\nMin...</td>\n",
       "      <td>pt</td>\n",
       "    </tr>\n",
       "  </tbody>\n",
       "</table>\n",
       "</div>"
      ],
      "text/plain": [
       "             ALink                            SName  \\\n",
       "0  /ivete-sangalo/                            Arerê   \n",
       "1  /ivete-sangalo/  Se Eu Não Te Amasse Tanto Assim   \n",
       "2  /ivete-sangalo/                      Céu da Boca   \n",
       "3  /ivete-sangalo/            Quando A Chuva Passar   \n",
       "4  /ivete-sangalo/                     Sorte Grande   \n",
       "\n",
       "                                               SLink  \\\n",
       "0                          /ivete-sangalo/arere.html   \n",
       "1  /ivete-sangalo/se-eu-nao-te-amasse-tanto-assim...   \n",
       "2                     /ivete-sangalo/chupa-toda.html   \n",
       "3          /ivete-sangalo/quando-a-chuva-passar.html   \n",
       "4                   /ivete-sangalo/sorte-grande.html   \n",
       "\n",
       "                                               Lyric language  \n",
       "0  Tudo o que eu quero nessa vida,\\nToda vida, é\\...       pt  \n",
       "1  Meu coração\\nSem direção\\nVoando só por voar\\n...       pt  \n",
       "2  É de babaixá!\\nÉ de balacubaca!\\nÉ de babaixá!...       pt  \n",
       "3  Quando a chuva passar\\n\\nPra quê falar\\nSe voc...       pt  \n",
       "4  A minha sorte grande foi você cair do céu\\nMin...       pt  "
      ]
     },
     "execution_count": 89,
     "metadata": {},
     "output_type": "execute_result"
    }
   ],
   "source": [
    "df_from_csv.head()"
   ]
  },
  {
   "cell_type": "code",
   "execution_count": 90,
   "metadata": {},
   "outputs": [
    {
     "data": {
      "text/html": [
       "<div>\n",
       "<style scoped>\n",
       "    .dataframe tbody tr th:only-of-type {\n",
       "        vertical-align: middle;\n",
       "    }\n",
       "\n",
       "    .dataframe tbody tr th {\n",
       "        vertical-align: top;\n",
       "    }\n",
       "\n",
       "    .dataframe thead th {\n",
       "        text-align: right;\n",
       "    }\n",
       "</style>\n",
       "<table border=\"1\" class=\"dataframe\">\n",
       "  <thead>\n",
       "    <tr style=\"text-align: right;\">\n",
       "      <th></th>\n",
       "      <th>ALink</th>\n",
       "      <th>SName</th>\n",
       "      <th>SLink</th>\n",
       "      <th>Lyric</th>\n",
       "      <th>language</th>\n",
       "    </tr>\n",
       "  </thead>\n",
       "  <tbody>\n",
       "    <tr>\n",
       "      <th>379926</th>\n",
       "      <td>/clegg-johnny/</td>\n",
       "      <td>The Waiting</td>\n",
       "      <td>/clegg-johnny/the-waiting.html</td>\n",
       "      <td>Chorus\\nHere we stand waiting on the plain\\nDa...</td>\n",
       "      <td>en</td>\n",
       "    </tr>\n",
       "    <tr>\n",
       "      <th>379927</th>\n",
       "      <td>/clegg-johnny/</td>\n",
       "      <td>Too Early For The Sky</td>\n",
       "      <td>/clegg-johnny/too-early-for-the-sky.html</td>\n",
       "      <td>I nearly disappeared into the mouth of a croco...</td>\n",
       "      <td>en</td>\n",
       "    </tr>\n",
       "    <tr>\n",
       "      <th>379928</th>\n",
       "      <td>/clegg-johnny/</td>\n",
       "      <td>Warsaw 1943 (I Never Betrayed The Revolution)</td>\n",
       "      <td>/clegg-johnny/warsaw-1943-i-never-betrayed-the...</td>\n",
       "      <td>Amambuka, amambuka azothengisa izwe lakithi, i...</td>\n",
       "      <td>en</td>\n",
       "    </tr>\n",
       "    <tr>\n",
       "      <th>379929</th>\n",
       "      <td>/clegg-johnny/</td>\n",
       "      <td>When The System Has Fallen</td>\n",
       "      <td>/clegg-johnny/when-the-system-has-fallen.html</td>\n",
       "      <td>Sweat in the heat for days on end\\nwaiting for...</td>\n",
       "      <td>en</td>\n",
       "    </tr>\n",
       "    <tr>\n",
       "      <th>379930</th>\n",
       "      <td>/clegg-johnny/</td>\n",
       "      <td>Woman Be My Country</td>\n",
       "      <td>/clegg-johnny/woman-be-my-country.html</td>\n",
       "      <td>Here we stand on the edge of the day\\nFaces me...</td>\n",
       "      <td>en</td>\n",
       "    </tr>\n",
       "  </tbody>\n",
       "</table>\n",
       "</div>"
      ],
      "text/plain": [
       "                 ALink                                          SName  \\\n",
       "379926  /clegg-johnny/                                    The Waiting   \n",
       "379927  /clegg-johnny/                          Too Early For The Sky   \n",
       "379928  /clegg-johnny/  Warsaw 1943 (I Never Betrayed The Revolution)   \n",
       "379929  /clegg-johnny/                     When The System Has Fallen   \n",
       "379930  /clegg-johnny/                            Woman Be My Country   \n",
       "\n",
       "                                                    SLink  \\\n",
       "379926                     /clegg-johnny/the-waiting.html   \n",
       "379927           /clegg-johnny/too-early-for-the-sky.html   \n",
       "379928  /clegg-johnny/warsaw-1943-i-never-betrayed-the...   \n",
       "379929      /clegg-johnny/when-the-system-has-fallen.html   \n",
       "379930             /clegg-johnny/woman-be-my-country.html   \n",
       "\n",
       "                                                    Lyric language  \n",
       "379926  Chorus\\nHere we stand waiting on the plain\\nDa...       en  \n",
       "379927  I nearly disappeared into the mouth of a croco...       en  \n",
       "379928  Amambuka, amambuka azothengisa izwe lakithi, i...       en  \n",
       "379929  Sweat in the heat for days on end\\nwaiting for...       en  \n",
       "379930  Here we stand on the edge of the day\\nFaces me...       en  "
      ]
     },
     "execution_count": 90,
     "metadata": {},
     "output_type": "execute_result"
    }
   ],
   "source": [
    "df_from_csv.tail()"
   ]
  },
  {
   "cell_type": "code",
   "execution_count": 91,
   "metadata": {},
   "outputs": [
    {
     "data": {
      "text/plain": [
       "<NumpyExtensionArray>\n",
       "['ALink', 'SName', 'SLink', 'Lyric', 'language']\n",
       "Length: 5, dtype: object"
      ]
     },
     "execution_count": 91,
     "metadata": {},
     "output_type": "execute_result"
    }
   ],
   "source": [
    "df_from_csv.columns.array"
   ]
  },
  {
   "cell_type": "markdown",
   "metadata": {},
   "source": [
    "The useful columns are 'Lyric' which obviously contains the lyrics of a song and 'ALink' which represents the song's author. The author will be used to avoid duplicate lyrics which may come from the text files.\n",
    "\n",
    "Visual inspection shows the text files don't contain song name information so 'SName' can't be used for duplicates detection."
   ]
  },
  {
   "cell_type": "code",
   "execution_count": 92,
   "metadata": {},
   "outputs": [],
   "source": [
    "df_from_csv = df_from_csv.drop([\"SName\", \"SLink\", \"language\"], axis=1)"
   ]
  },
  {
   "cell_type": "code",
   "execution_count": 93,
   "metadata": {},
   "outputs": [
    {
     "data": {
      "text/html": [
       "<div>\n",
       "<style scoped>\n",
       "    .dataframe tbody tr th:only-of-type {\n",
       "        vertical-align: middle;\n",
       "    }\n",
       "\n",
       "    .dataframe tbody tr th {\n",
       "        vertical-align: top;\n",
       "    }\n",
       "\n",
       "    .dataframe thead th {\n",
       "        text-align: right;\n",
       "    }\n",
       "</style>\n",
       "<table border=\"1\" class=\"dataframe\">\n",
       "  <thead>\n",
       "    <tr style=\"text-align: right;\">\n",
       "      <th></th>\n",
       "      <th>ALink</th>\n",
       "      <th>Lyric</th>\n",
       "    </tr>\n",
       "  </thead>\n",
       "  <tbody>\n",
       "    <tr>\n",
       "      <th>0</th>\n",
       "      <td>/ivete-sangalo/</td>\n",
       "      <td>Tudo o que eu quero nessa vida,\\nToda vida, é\\...</td>\n",
       "    </tr>\n",
       "    <tr>\n",
       "      <th>1</th>\n",
       "      <td>/ivete-sangalo/</td>\n",
       "      <td>Meu coração\\nSem direção\\nVoando só por voar\\n...</td>\n",
       "    </tr>\n",
       "    <tr>\n",
       "      <th>2</th>\n",
       "      <td>/ivete-sangalo/</td>\n",
       "      <td>É de babaixá!\\nÉ de balacubaca!\\nÉ de babaixá!...</td>\n",
       "    </tr>\n",
       "    <tr>\n",
       "      <th>3</th>\n",
       "      <td>/ivete-sangalo/</td>\n",
       "      <td>Quando a chuva passar\\n\\nPra quê falar\\nSe voc...</td>\n",
       "    </tr>\n",
       "    <tr>\n",
       "      <th>4</th>\n",
       "      <td>/ivete-sangalo/</td>\n",
       "      <td>A minha sorte grande foi você cair do céu\\nMin...</td>\n",
       "    </tr>\n",
       "  </tbody>\n",
       "</table>\n",
       "</div>"
      ],
      "text/plain": [
       "             ALink                                              Lyric\n",
       "0  /ivete-sangalo/  Tudo o que eu quero nessa vida,\\nToda vida, é\\...\n",
       "1  /ivete-sangalo/  Meu coração\\nSem direção\\nVoando só por voar\\n...\n",
       "2  /ivete-sangalo/  É de babaixá!\\nÉ de balacubaca!\\nÉ de babaixá!...\n",
       "3  /ivete-sangalo/  Quando a chuva passar\\n\\nPra quê falar\\nSe voc...\n",
       "4  /ivete-sangalo/  A minha sorte grande foi você cair do céu\\nMin..."
      ]
     },
     "execution_count": 93,
     "metadata": {},
     "output_type": "execute_result"
    }
   ],
   "source": [
    "df_from_csv.head()"
   ]
  },
  {
   "cell_type": "markdown",
   "metadata": {},
   "source": [
    "Checking data types."
   ]
  },
  {
   "cell_type": "code",
   "execution_count": 94,
   "metadata": {},
   "outputs": [
    {
     "name": "stdout",
     "output_type": "stream",
     "text": [
      "<class 'pandas.core.frame.DataFrame'>\n",
      "RangeIndex: 379931 entries, 0 to 379930\n",
      "Data columns (total 2 columns):\n",
      " #   Column  Non-Null Count   Dtype \n",
      "---  ------  --------------   ----- \n",
      " 0   ALink   379930 non-null  object\n",
      " 1   Lyric   379854 non-null  object\n",
      "dtypes: object(2)\n",
      "memory usage: 5.8+ MB\n"
     ]
    }
   ],
   "source": [
    "df_from_csv.info()"
   ]
  },
  {
   "cell_type": "markdown",
   "metadata": {},
   "source": [
    "Handling missing data:\n",
    "1) There are less non-null object (string) in column 'Lyric' than there are entries.\n",
    "2) There is one less object (string) in column 'ALink' than there are entries.\n",
    "3) They could possibly be filled with information from the text files data, which means we can remove the NaN values here. Joining with information from the text files will add the originaly missing information, if any exists though."
   ]
  },
  {
   "cell_type": "code",
   "execution_count": 95,
   "metadata": {},
   "outputs": [],
   "source": [
    "df_from_csv = df_from_csv.dropna()"
   ]
  },
  {
   "cell_type": "markdown",
   "metadata": {},
   "source": [
    "We would like that artist names are formated in a way which makes merging with the text files easier. The convention would be [name part]-[name part]."
   ]
  },
  {
   "cell_type": "code",
   "execution_count": 96,
   "metadata": {},
   "outputs": [
    {
     "data": {
      "text/plain": [
       "array(['/ivete-sangalo/', '/ivete-sangalo/', '/ivete-sangalo/', ...,\n",
       "       '/clegg-johnny/', '/clegg-johnny/', '/clegg-johnny/'], dtype=object)"
      ]
     },
     "execution_count": 96,
     "metadata": {},
     "output_type": "execute_result"
    }
   ],
   "source": [
    "df_from_csv['ALink'].values"
   ]
  },
  {
   "cell_type": "code",
   "execution_count": 97,
   "metadata": {},
   "outputs": [],
   "source": [
    "df_from_csv['ALink'] = df_from_csv['ALink'].apply(lambda x: x.replace(\"/\", \"\"))"
   ]
  },
  {
   "cell_type": "code",
   "execution_count": 98,
   "metadata": {},
   "outputs": [
    {
     "data": {
      "text/plain": [
       "array(['ivete-sangalo', 'ivete-sangalo', 'ivete-sangalo', ...,\n",
       "       'clegg-johnny', 'clegg-johnny', 'clegg-johnny'], dtype=object)"
      ]
     },
     "execution_count": 98,
     "metadata": {},
     "output_type": "execute_result"
    }
   ],
   "source": [
    "df_from_csv['ALink'].values"
   ]
  },
  {
   "cell_type": "markdown",
   "metadata": {},
   "source": [
    "### Text files"
   ]
  },
  {
   "cell_type": "markdown",
   "metadata": {},
   "source": [
    "Let's create a data frame from the text files. The column 'ALink' which represents artist names will be constructed from the file names. The column 'Lyric' will have the contents of those file for each artis."
   ]
  },
  {
   "cell_type": "code",
   "execution_count": 99,
   "metadata": {},
   "outputs": [
    {
     "name": "stdout",
     "output_type": "stream",
     "text": [
      "adele.txt\n",
      "al-green.txt\n",
      "alicia-keys.txt\n",
      "amy-winehouse.txt\n",
      "beatles.txt\n",
      "bieber.txt\n",
      "bjork.txt\n",
      "blink-182.txt\n",
      "bob-dylan.txt\n",
      "bob-marley.txt\n",
      "britney-spears.txt\n",
      "bruce-springsteen.txt\n",
      "bruno-mars.txt\n",
      "cake.txt\n",
      "dickinson.txt\n",
      "disney.txt\n",
      "dj-khaled.txt\n",
      "dolly-parton.txt\n",
      "dr-seuss.txt\n",
      "drake.txt\n",
      "eminem.txt\n",
      "janisjoplin.txt\n",
      "jimi-hendrix.txt\n",
      "johnny-cash.txt\n",
      "joni-mitchell.txt\n",
      "kanye-west.txt\n",
      "kanye.txt\n",
      "Kanye_West.txt\n",
      "lady-gaga.txt\n",
      "leonard-cohen.txt\n",
      "lil-wayne.txt\n",
      "Lil_Wayne.txt\n",
      "lin-manuel-miranda.txt\n",
      "lorde.txt\n",
      "ludacris.txt\n",
      "michael-jackson.txt\n",
      "missy-elliott.txt\n",
      "nickelback.txt\n",
      "nicki-minaj.txt\n",
      "nirvana.txt\n",
      "notorious-big.txt\n",
      "notorious_big.txt\n",
      "nursery_rhymes.txt\n",
      "patti-smith.txt\n",
      "paul-simon.txt\n",
      "prince.txt\n",
      "r-kelly.txt\n",
      "radiohead.txt\n",
      "rihanna.txt\n"
     ]
    }
   ],
   "source": [
    "files = os.listdir(\"../data/raw/txt/\")\n",
    "for file in files:\n",
    "    print(file)"
   ]
  },
  {
   "cell_type": "code",
   "execution_count": 100,
   "metadata": {},
   "outputs": [],
   "source": [
    "file_data = []\n",
    "for file_name in os.listdir(\"../data/raw/txt/\"):\n",
    "    file_path = os.path.join(\"../data/raw/txt/\", file_name)\n",
    "    if os.path.isfile(file_path):\n",
    "        with open(file_path, \"r\", encoding=\"utf-8\") as file:\n",
    "            file_content = file.read()\n",
    "            file_data.append({\"ALink\": file_name[:-4], \"Lyric\": file_content})\n",
    "df_from_txt = pd.DataFrame(file_data)"
   ]
  },
  {
   "cell_type": "code",
   "execution_count": 101,
   "metadata": {},
   "outputs": [
    {
     "data": {
      "text/html": [
       "<div>\n",
       "<style scoped>\n",
       "    .dataframe tbody tr th:only-of-type {\n",
       "        vertical-align: middle;\n",
       "    }\n",
       "\n",
       "    .dataframe tbody tr th {\n",
       "        vertical-align: top;\n",
       "    }\n",
       "\n",
       "    .dataframe thead th {\n",
       "        text-align: right;\n",
       "    }\n",
       "</style>\n",
       "<table border=\"1\" class=\"dataframe\">\n",
       "  <thead>\n",
       "    <tr style=\"text-align: right;\">\n",
       "      <th></th>\n",
       "      <th>ALink</th>\n",
       "      <th>Lyric</th>\n",
       "    </tr>\n",
       "  </thead>\n",
       "  <tbody>\n",
       "    <tr>\n",
       "      <th>0</th>\n",
       "      <td>adele</td>\n",
       "      <td>Looking for some education\\nMade my way into t...</td>\n",
       "    </tr>\n",
       "    <tr>\n",
       "      <th>1</th>\n",
       "      <td>al-green</td>\n",
       "      <td>Let's stay together I, I'm I'm so in love with...</td>\n",
       "    </tr>\n",
       "    <tr>\n",
       "      <th>2</th>\n",
       "      <td>alicia-keys</td>\n",
       "      <td>Ooh....... New York x2 Grew up in a town that ...</td>\n",
       "    </tr>\n",
       "    <tr>\n",
       "      <th>3</th>\n",
       "      <td>amy-winehouse</td>\n",
       "      <td>Build your dreams to the stars above\\nBut when...</td>\n",
       "    </tr>\n",
       "    <tr>\n",
       "      <th>4</th>\n",
       "      <td>beatles</td>\n",
       "      <td>Yesterday, all my troubles seemed so far away\\...</td>\n",
       "    </tr>\n",
       "  </tbody>\n",
       "</table>\n",
       "</div>"
      ],
      "text/plain": [
       "           ALink                                              Lyric\n",
       "0          adele  Looking for some education\\nMade my way into t...\n",
       "1       al-green  Let's stay together I, I'm I'm so in love with...\n",
       "2    alicia-keys  Ooh....... New York x2 Grew up in a town that ...\n",
       "3  amy-winehouse  Build your dreams to the stars above\\nBut when...\n",
       "4        beatles  Yesterday, all my troubles seemed so far away\\..."
      ]
     },
     "execution_count": 101,
     "metadata": {},
     "output_type": "execute_result"
    }
   ],
   "source": [
    "df_from_txt.head()"
   ]
  },
  {
   "cell_type": "code",
   "execution_count": 102,
   "metadata": {},
   "outputs": [
    {
     "data": {
      "text/html": [
       "<div>\n",
       "<style scoped>\n",
       "    .dataframe tbody tr th:only-of-type {\n",
       "        vertical-align: middle;\n",
       "    }\n",
       "\n",
       "    .dataframe tbody tr th {\n",
       "        vertical-align: top;\n",
       "    }\n",
       "\n",
       "    .dataframe thead th {\n",
       "        text-align: right;\n",
       "    }\n",
       "</style>\n",
       "<table border=\"1\" class=\"dataframe\">\n",
       "  <thead>\n",
       "    <tr style=\"text-align: right;\">\n",
       "      <th></th>\n",
       "      <th>ALink</th>\n",
       "      <th>Lyric</th>\n",
       "    </tr>\n",
       "  </thead>\n",
       "  <tbody>\n",
       "    <tr>\n",
       "      <th>44</th>\n",
       "      <td>paul-simon</td>\n",
       "      <td>Hey, Vietnam, Vietnam, Vietnam, Vietnam\\nVietn...</td>\n",
       "    </tr>\n",
       "    <tr>\n",
       "      <th>45</th>\n",
       "      <td>prince</td>\n",
       "      <td>\\n\\nAll of this and more is for you\\nWith love...</td>\n",
       "    </tr>\n",
       "    <tr>\n",
       "      <th>46</th>\n",
       "      <td>r-kelly</td>\n",
       "      <td>I hear you callin', \"Here I come baby\"\\nTo sav...</td>\n",
       "    </tr>\n",
       "    <tr>\n",
       "      <th>47</th>\n",
       "      <td>radiohead</td>\n",
       "      <td>Come on, come on\\nYou think you drive me crazy...</td>\n",
       "    </tr>\n",
       "    <tr>\n",
       "      <th>48</th>\n",
       "      <td>rihanna</td>\n",
       "      <td>Ghost in the mirror\\nI knew your face once, bu...</td>\n",
       "    </tr>\n",
       "  </tbody>\n",
       "</table>\n",
       "</div>"
      ],
      "text/plain": [
       "         ALink                                              Lyric\n",
       "44  paul-simon  Hey, Vietnam, Vietnam, Vietnam, Vietnam\\nVietn...\n",
       "45      prince  \\n\\nAll of this and more is for you\\nWith love...\n",
       "46     r-kelly  I hear you callin', \"Here I come baby\"\\nTo sav...\n",
       "47   radiohead  Come on, come on\\nYou think you drive me crazy...\n",
       "48     rihanna  Ghost in the mirror\\nI knew your face once, bu..."
      ]
     },
     "execution_count": 102,
     "metadata": {},
     "output_type": "execute_result"
    }
   ],
   "source": [
    "df_from_txt.tail()"
   ]
  },
  {
   "cell_type": "code",
   "execution_count": 103,
   "metadata": {},
   "outputs": [
    {
     "name": "stdout",
     "output_type": "stream",
     "text": [
      "<class 'pandas.core.frame.DataFrame'>\n",
      "RangeIndex: 49 entries, 0 to 48\n",
      "Data columns (total 2 columns):\n",
      " #   Column  Non-Null Count  Dtype \n",
      "---  ------  --------------  ----- \n",
      " 0   ALink   49 non-null     object\n",
      " 1   Lyric   49 non-null     object\n",
      "dtypes: object(2)\n",
      "memory usage: 916.0+ bytes\n"
     ]
    }
   ],
   "source": [
    "df_from_txt.info()"
   ]
  },
  {
   "cell_type": "markdown",
   "metadata": {},
   "source": [
    "The dataframes can now be concatenated and saved as an interim dataset."
   ]
  }
 ],
 "metadata": {
  "kernelspec": {
   "display_name": "Python 3",
   "language": "python",
   "name": "python3"
  },
  "language_info": {
   "codemirror_mode": {
    "name": "ipython",
    "version": 3
   },
   "file_extension": ".py",
   "mimetype": "text/x-python",
   "name": "python",
   "nbconvert_exporter": "python",
   "pygments_lexer": "ipython3",
   "version": "3.11.6"
  }
 },
 "nbformat": 4,
 "nbformat_minor": 2
}
