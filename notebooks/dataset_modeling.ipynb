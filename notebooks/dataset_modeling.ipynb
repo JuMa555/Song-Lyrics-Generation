{
 "cells": [
  {
   "cell_type": "markdown",
   "metadata": {},
   "source": [
    "# Dataset Modeling\n",
    "We have 2 different data sources:\n",
    "1) csv files containing song information (lyrics-data.csv)\n",
    "2) txt files for each artist, containing the lyrics of their songs\n",
    "\n",
    "The goal is to model those sources into a single dataset for further analysis and preprocessing steps."
   ]
  },
  {
   "cell_type": "code",
   "execution_count": 310,
   "metadata": {},
   "outputs": [],
   "source": [
    "import pandas as pd\n",
    "import os"
   ]
  },
  {
   "cell_type": "markdown",
   "metadata": {},
   "source": [
    "## Prepare each dataframe - one from csv, other from txt"
   ]
  },
  {
   "cell_type": "markdown",
   "metadata": {},
   "source": [
    "### CSV file - lyrics-data.csv"
   ]
  },
  {
   "cell_type": "code",
   "execution_count": 311,
   "metadata": {},
   "outputs": [],
   "source": [
    "df_from_csv = pd.read_csv(\"../data/raw/csv/lyrics-data.csv\")"
   ]
  },
  {
   "cell_type": "code",
   "execution_count": 312,
   "metadata": {},
   "outputs": [
    {
     "data": {
      "text/html": [
       "<div>\n",
       "<style scoped>\n",
       "    .dataframe tbody tr th:only-of-type {\n",
       "        vertical-align: middle;\n",
       "    }\n",
       "\n",
       "    .dataframe tbody tr th {\n",
       "        vertical-align: top;\n",
       "    }\n",
       "\n",
       "    .dataframe thead th {\n",
       "        text-align: right;\n",
       "    }\n",
       "</style>\n",
       "<table border=\"1\" class=\"dataframe\">\n",
       "  <thead>\n",
       "    <tr style=\"text-align: right;\">\n",
       "      <th></th>\n",
       "      <th>ALink</th>\n",
       "      <th>SName</th>\n",
       "      <th>SLink</th>\n",
       "      <th>Lyric</th>\n",
       "      <th>language</th>\n",
       "    </tr>\n",
       "  </thead>\n",
       "  <tbody>\n",
       "    <tr>\n",
       "      <th>0</th>\n",
       "      <td>/ivete-sangalo/</td>\n",
       "      <td>Arerê</td>\n",
       "      <td>/ivete-sangalo/arere.html</td>\n",
       "      <td>Tudo o que eu quero nessa vida,\\nToda vida, é\\...</td>\n",
       "      <td>pt</td>\n",
       "    </tr>\n",
       "    <tr>\n",
       "      <th>1</th>\n",
       "      <td>/ivete-sangalo/</td>\n",
       "      <td>Se Eu Não Te Amasse Tanto Assim</td>\n",
       "      <td>/ivete-sangalo/se-eu-nao-te-amasse-tanto-assim...</td>\n",
       "      <td>Meu coração\\nSem direção\\nVoando só por voar\\n...</td>\n",
       "      <td>pt</td>\n",
       "    </tr>\n",
       "    <tr>\n",
       "      <th>2</th>\n",
       "      <td>/ivete-sangalo/</td>\n",
       "      <td>Céu da Boca</td>\n",
       "      <td>/ivete-sangalo/chupa-toda.html</td>\n",
       "      <td>É de babaixá!\\nÉ de balacubaca!\\nÉ de babaixá!...</td>\n",
       "      <td>pt</td>\n",
       "    </tr>\n",
       "    <tr>\n",
       "      <th>3</th>\n",
       "      <td>/ivete-sangalo/</td>\n",
       "      <td>Quando A Chuva Passar</td>\n",
       "      <td>/ivete-sangalo/quando-a-chuva-passar.html</td>\n",
       "      <td>Quando a chuva passar\\n\\nPra quê falar\\nSe voc...</td>\n",
       "      <td>pt</td>\n",
       "    </tr>\n",
       "    <tr>\n",
       "      <th>4</th>\n",
       "      <td>/ivete-sangalo/</td>\n",
       "      <td>Sorte Grande</td>\n",
       "      <td>/ivete-sangalo/sorte-grande.html</td>\n",
       "      <td>A minha sorte grande foi você cair do céu\\nMin...</td>\n",
       "      <td>pt</td>\n",
       "    </tr>\n",
       "  </tbody>\n",
       "</table>\n",
       "</div>"
      ],
      "text/plain": [
       "             ALink                            SName  \\\n",
       "0  /ivete-sangalo/                            Arerê   \n",
       "1  /ivete-sangalo/  Se Eu Não Te Amasse Tanto Assim   \n",
       "2  /ivete-sangalo/                      Céu da Boca   \n",
       "3  /ivete-sangalo/            Quando A Chuva Passar   \n",
       "4  /ivete-sangalo/                     Sorte Grande   \n",
       "\n",
       "                                               SLink  \\\n",
       "0                          /ivete-sangalo/arere.html   \n",
       "1  /ivete-sangalo/se-eu-nao-te-amasse-tanto-assim...   \n",
       "2                     /ivete-sangalo/chupa-toda.html   \n",
       "3          /ivete-sangalo/quando-a-chuva-passar.html   \n",
       "4                   /ivete-sangalo/sorte-grande.html   \n",
       "\n",
       "                                               Lyric language  \n",
       "0  Tudo o que eu quero nessa vida,\\nToda vida, é\\...       pt  \n",
       "1  Meu coração\\nSem direção\\nVoando só por voar\\n...       pt  \n",
       "2  É de babaixá!\\nÉ de balacubaca!\\nÉ de babaixá!...       pt  \n",
       "3  Quando a chuva passar\\n\\nPra quê falar\\nSe voc...       pt  \n",
       "4  A minha sorte grande foi você cair do céu\\nMin...       pt  "
      ]
     },
     "execution_count": 312,
     "metadata": {},
     "output_type": "execute_result"
    }
   ],
   "source": [
    "df_from_csv.head()"
   ]
  },
  {
   "cell_type": "code",
   "execution_count": 313,
   "metadata": {},
   "outputs": [
    {
     "data": {
      "text/html": [
       "<div>\n",
       "<style scoped>\n",
       "    .dataframe tbody tr th:only-of-type {\n",
       "        vertical-align: middle;\n",
       "    }\n",
       "\n",
       "    .dataframe tbody tr th {\n",
       "        vertical-align: top;\n",
       "    }\n",
       "\n",
       "    .dataframe thead th {\n",
       "        text-align: right;\n",
       "    }\n",
       "</style>\n",
       "<table border=\"1\" class=\"dataframe\">\n",
       "  <thead>\n",
       "    <tr style=\"text-align: right;\">\n",
       "      <th></th>\n",
       "      <th>ALink</th>\n",
       "      <th>SName</th>\n",
       "      <th>SLink</th>\n",
       "      <th>Lyric</th>\n",
       "      <th>language</th>\n",
       "    </tr>\n",
       "  </thead>\n",
       "  <tbody>\n",
       "    <tr>\n",
       "      <th>379926</th>\n",
       "      <td>/clegg-johnny/</td>\n",
       "      <td>The Waiting</td>\n",
       "      <td>/clegg-johnny/the-waiting.html</td>\n",
       "      <td>Chorus\\nHere we stand waiting on the plain\\nDa...</td>\n",
       "      <td>en</td>\n",
       "    </tr>\n",
       "    <tr>\n",
       "      <th>379927</th>\n",
       "      <td>/clegg-johnny/</td>\n",
       "      <td>Too Early For The Sky</td>\n",
       "      <td>/clegg-johnny/too-early-for-the-sky.html</td>\n",
       "      <td>I nearly disappeared into the mouth of a croco...</td>\n",
       "      <td>en</td>\n",
       "    </tr>\n",
       "    <tr>\n",
       "      <th>379928</th>\n",
       "      <td>/clegg-johnny/</td>\n",
       "      <td>Warsaw 1943 (I Never Betrayed The Revolution)</td>\n",
       "      <td>/clegg-johnny/warsaw-1943-i-never-betrayed-the...</td>\n",
       "      <td>Amambuka, amambuka azothengisa izwe lakithi, i...</td>\n",
       "      <td>en</td>\n",
       "    </tr>\n",
       "    <tr>\n",
       "      <th>379929</th>\n",
       "      <td>/clegg-johnny/</td>\n",
       "      <td>When The System Has Fallen</td>\n",
       "      <td>/clegg-johnny/when-the-system-has-fallen.html</td>\n",
       "      <td>Sweat in the heat for days on end\\nwaiting for...</td>\n",
       "      <td>en</td>\n",
       "    </tr>\n",
       "    <tr>\n",
       "      <th>379930</th>\n",
       "      <td>/clegg-johnny/</td>\n",
       "      <td>Woman Be My Country</td>\n",
       "      <td>/clegg-johnny/woman-be-my-country.html</td>\n",
       "      <td>Here we stand on the edge of the day\\nFaces me...</td>\n",
       "      <td>en</td>\n",
       "    </tr>\n",
       "  </tbody>\n",
       "</table>\n",
       "</div>"
      ],
      "text/plain": [
       "                 ALink                                          SName  \\\n",
       "379926  /clegg-johnny/                                    The Waiting   \n",
       "379927  /clegg-johnny/                          Too Early For The Sky   \n",
       "379928  /clegg-johnny/  Warsaw 1943 (I Never Betrayed The Revolution)   \n",
       "379929  /clegg-johnny/                     When The System Has Fallen   \n",
       "379930  /clegg-johnny/                            Woman Be My Country   \n",
       "\n",
       "                                                    SLink  \\\n",
       "379926                     /clegg-johnny/the-waiting.html   \n",
       "379927           /clegg-johnny/too-early-for-the-sky.html   \n",
       "379928  /clegg-johnny/warsaw-1943-i-never-betrayed-the...   \n",
       "379929      /clegg-johnny/when-the-system-has-fallen.html   \n",
       "379930             /clegg-johnny/woman-be-my-country.html   \n",
       "\n",
       "                                                    Lyric language  \n",
       "379926  Chorus\\nHere we stand waiting on the plain\\nDa...       en  \n",
       "379927  I nearly disappeared into the mouth of a croco...       en  \n",
       "379928  Amambuka, amambuka azothengisa izwe lakithi, i...       en  \n",
       "379929  Sweat in the heat for days on end\\nwaiting for...       en  \n",
       "379930  Here we stand on the edge of the day\\nFaces me...       en  "
      ]
     },
     "execution_count": 313,
     "metadata": {},
     "output_type": "execute_result"
    }
   ],
   "source": [
    "df_from_csv.tail()"
   ]
  },
  {
   "cell_type": "code",
   "execution_count": 314,
   "metadata": {},
   "outputs": [
    {
     "data": {
      "text/plain": [
       "<NumpyExtensionArray>\n",
       "['ALink', 'SName', 'SLink', 'Lyric', 'language']\n",
       "Length: 5, dtype: object"
      ]
     },
     "execution_count": 314,
     "metadata": {},
     "output_type": "execute_result"
    }
   ],
   "source": [
    "df_from_csv.columns.array"
   ]
  },
  {
   "cell_type": "markdown",
   "metadata": {},
   "source": [
    "The useful columns are 'Lyric' which obviously contains the lyrics of a song and 'ALink' which represents the song's author. The author will be used to avoid duplicate lyrics which may come from the text files."
   ]
  },
  {
   "cell_type": "markdown",
   "metadata": {},
   "source": [
    "But before, since we need only english songs, let's check the values of the 'language' column."
   ]
  },
  {
   "cell_type": "code",
   "execution_count": 315,
   "metadata": {},
   "outputs": [
    {
     "data": {
      "text/plain": [
       "language\n",
       "en     191814\n",
       "pt     157393\n",
       "es       9917\n",
       "rw       1679\n",
       "it       1432\n",
       "fr       1225\n",
       "de        844\n",
       "fi        145\n",
       "sv        112\n",
       "ro         97\n",
       "no         89\n",
       "is         86\n",
       "tl         69\n",
       "pl         47\n",
       "gl         36\n",
       "ga         32\n",
       "tr         32\n",
       "id         26\n",
       "cy         23\n",
       "su         19\n",
       "af         19\n",
       "sw         19\n",
       "ko         17\n",
       "nl         14\n",
       "da         13\n",
       "ca         13\n",
       "et         13\n",
       "ms          8\n",
       "ja          7\n",
       "st          7\n",
       "ht          5\n",
       "gd          4\n",
       "ru          4\n",
       "ar          4\n",
       "eu          4\n",
       "cs          3\n",
       "ku          3\n",
       "ny          3\n",
       "mg          3\n",
       "lg          2\n",
       "jw          2\n",
       "hu          2\n",
       "vi          1\n",
       "iw          1\n",
       "sr          1\n",
       "hmn         1\n",
       "hr          1\n",
       "fa          1\n",
       "sq          1\n",
       "zh          1\n",
       "lv          1\n",
       "sl          1\n",
       "Name: count, dtype: int64"
      ]
     },
     "execution_count": 315,
     "metadata": {},
     "output_type": "execute_result"
    }
   ],
   "source": [
    "df_from_csv[\"language\"].value_counts()"
   ]
  },
  {
   "cell_type": "code",
   "execution_count": 316,
   "metadata": {},
   "outputs": [],
   "source": [
    "df_from_csv = df_from_csv[df_from_csv[\"language\"] == \"en\"]"
   ]
  },
  {
   "cell_type": "code",
   "execution_count": 317,
   "metadata": {},
   "outputs": [],
   "source": [
    "df_from_csv = df_from_csv.drop([\"SName\", \"SLink\", \"language\"], axis=1)"
   ]
  },
  {
   "cell_type": "code",
   "execution_count": 318,
   "metadata": {},
   "outputs": [
    {
     "data": {
      "text/html": [
       "<div>\n",
       "<style scoped>\n",
       "    .dataframe tbody tr th:only-of-type {\n",
       "        vertical-align: middle;\n",
       "    }\n",
       "\n",
       "    .dataframe tbody tr th {\n",
       "        vertical-align: top;\n",
       "    }\n",
       "\n",
       "    .dataframe thead th {\n",
       "        text-align: right;\n",
       "    }\n",
       "</style>\n",
       "<table border=\"1\" class=\"dataframe\">\n",
       "  <thead>\n",
       "    <tr style=\"text-align: right;\">\n",
       "      <th></th>\n",
       "      <th>ALink</th>\n",
       "      <th>Lyric</th>\n",
       "    </tr>\n",
       "  </thead>\n",
       "  <tbody>\n",
       "    <tr>\n",
       "      <th>69</th>\n",
       "      <td>/ivete-sangalo/</td>\n",
       "      <td>I feel so unsure\\nAs I take your hand and lead...</td>\n",
       "    </tr>\n",
       "    <tr>\n",
       "      <th>86</th>\n",
       "      <td>/ivete-sangalo/</td>\n",
       "      <td>Don't let them fool, ya\\nOr even try to school...</td>\n",
       "    </tr>\n",
       "    <tr>\n",
       "      <th>88</th>\n",
       "      <td>/ivete-sangalo/</td>\n",
       "      <td>Baby, let's cruise, away from here\\nDon't be c...</td>\n",
       "    </tr>\n",
       "    <tr>\n",
       "      <th>111</th>\n",
       "      <td>/ivete-sangalo/</td>\n",
       "      <td>Know it sounds funny\\nBut, I just can't stand ...</td>\n",
       "    </tr>\n",
       "    <tr>\n",
       "      <th>140</th>\n",
       "      <td>/ivete-sangalo/</td>\n",
       "      <td>You've got that look again\\nThe one I hoped I ...</td>\n",
       "    </tr>\n",
       "  </tbody>\n",
       "</table>\n",
       "</div>"
      ],
      "text/plain": [
       "               ALink                                              Lyric\n",
       "69   /ivete-sangalo/  I feel so unsure\\nAs I take your hand and lead...\n",
       "86   /ivete-sangalo/  Don't let them fool, ya\\nOr even try to school...\n",
       "88   /ivete-sangalo/  Baby, let's cruise, away from here\\nDon't be c...\n",
       "111  /ivete-sangalo/  Know it sounds funny\\nBut, I just can't stand ...\n",
       "140  /ivete-sangalo/  You've got that look again\\nThe one I hoped I ..."
      ]
     },
     "execution_count": 318,
     "metadata": {},
     "output_type": "execute_result"
    }
   ],
   "source": [
    "df_from_csv.head()"
   ]
  },
  {
   "cell_type": "markdown",
   "metadata": {},
   "source": [
    "Checking data types."
   ]
  },
  {
   "cell_type": "code",
   "execution_count": 319,
   "metadata": {},
   "outputs": [
    {
     "name": "stdout",
     "output_type": "stream",
     "text": [
      "<class 'pandas.core.frame.DataFrame'>\n",
      "Index: 191814 entries, 69 to 379930\n",
      "Data columns (total 2 columns):\n",
      " #   Column  Non-Null Count   Dtype \n",
      "---  ------  --------------   ----- \n",
      " 0   ALink   191814 non-null  object\n",
      " 1   Lyric   191814 non-null  object\n",
      "dtypes: object(2)\n",
      "memory usage: 4.4+ MB\n"
     ]
    }
   ],
   "source": [
    "df_from_csv.info()"
   ]
  },
  {
   "cell_type": "markdown",
   "metadata": {},
   "source": [
    "Handling missing data:\n",
    "1) There are less non-null object (string) in column 'Lyric' than there are entries.\n",
    "2) There is one less object (string) in column 'ALink' than there are entries.\n",
    "3) They could possibly be filled with information from the text files data, which means we can remove the NaN values here. Joining with information from the text files will add the originaly missing information, if any exists though."
   ]
  },
  {
   "cell_type": "code",
   "execution_count": 320,
   "metadata": {},
   "outputs": [],
   "source": [
    "df_from_csv = df_from_csv.dropna()"
   ]
  },
  {
   "cell_type": "markdown",
   "metadata": {},
   "source": [
    "We would like that artist names are formated in a way which makes merging with the text files easier. The convention would be [lowercase]-[lowercase]."
   ]
  },
  {
   "cell_type": "code",
   "execution_count": 321,
   "metadata": {},
   "outputs": [
    {
     "data": {
      "text/plain": [
       "array(['/ivete-sangalo/', '/ivete-sangalo/', '/ivete-sangalo/', ...,\n",
       "       '/clegg-johnny/', '/clegg-johnny/', '/clegg-johnny/'], dtype=object)"
      ]
     },
     "execution_count": 321,
     "metadata": {},
     "output_type": "execute_result"
    }
   ],
   "source": [
    "df_from_csv['ALink'].values"
   ]
  },
  {
   "cell_type": "code",
   "execution_count": 322,
   "metadata": {},
   "outputs": [],
   "source": [
    "df_from_csv['ALink'] = df_from_csv['ALink'].apply(lambda x: x.replace(\"/\", \"\"))"
   ]
  },
  {
   "cell_type": "code",
   "execution_count": 323,
   "metadata": {},
   "outputs": [
    {
     "data": {
      "text/plain": [
       "array(['ivete-sangalo', 'ivete-sangalo', 'ivete-sangalo', ...,\n",
       "       'clegg-johnny', 'clegg-johnny', 'clegg-johnny'], dtype=object)"
      ]
     },
     "execution_count": 323,
     "metadata": {},
     "output_type": "execute_result"
    }
   ],
   "source": [
    "df_from_csv['ALink'].values"
   ]
  },
  {
   "cell_type": "markdown",
   "metadata": {},
   "source": [
    "### Text files"
   ]
  },
  {
   "cell_type": "markdown",
   "metadata": {},
   "source": [
    "Let's create a data frame from the text files. The column 'ALink' which represents artist names will be constructed from the file names. The column 'Lyric' will have the contents of those file for each artis."
   ]
  },
  {
   "cell_type": "code",
   "execution_count": 324,
   "metadata": {},
   "outputs": [
    {
     "name": "stdout",
     "output_type": "stream",
     "text": [
      "adele.txt\n",
      "al-green.txt\n",
      "alicia-keys.txt\n",
      "amy-winehouse.txt\n",
      "beatles.txt\n",
      "bieber.txt\n",
      "bjork.txt\n",
      "blink-182.txt\n",
      "bob-dylan.txt\n",
      "bob-marley.txt\n",
      "britney-spears.txt\n",
      "bruce-springsteen.txt\n",
      "bruno-mars.txt\n",
      "cake.txt\n",
      "dickinson.txt\n",
      "disney.txt\n",
      "dj-khaled.txt\n",
      "dolly-parton.txt\n",
      "dr-seuss.txt\n",
      "drake.txt\n",
      "eminem.txt\n",
      "janisjoplin.txt\n",
      "jimi-hendrix.txt\n",
      "johnny-cash.txt\n",
      "joni-mitchell.txt\n",
      "kanye-west.txt\n",
      "kanye.txt\n",
      "Kanye_West.txt\n",
      "lady-gaga.txt\n",
      "leonard-cohen.txt\n",
      "lil-wayne.txt\n",
      "Lil_Wayne.txt\n",
      "lin-manuel-miranda.txt\n",
      "lorde.txt\n",
      "ludacris.txt\n",
      "michael-jackson.txt\n",
      "missy-elliott.txt\n",
      "nickelback.txt\n",
      "nicki-minaj.txt\n",
      "nirvana.txt\n",
      "notorious-big.txt\n",
      "notorious_big.txt\n",
      "nursery_rhymes.txt\n",
      "patti-smith.txt\n",
      "paul-simon.txt\n",
      "prince.txt\n",
      "r-kelly.txt\n",
      "radiohead.txt\n",
      "rihanna.txt\n"
     ]
    }
   ],
   "source": [
    "files = os.listdir(\"../data/raw/txt/\")\n",
    "for file in files:\n",
    "    if file != \".gitkeep\":\n",
    "        print(file)"
   ]
  },
  {
   "cell_type": "code",
   "execution_count": 325,
   "metadata": {},
   "outputs": [],
   "source": [
    "file_data = []\n",
    "for file_name in os.listdir(\"../data/raw/txt/\"):\n",
    "    file_path = os.path.join(\"../data/raw/txt/\", file_name)\n",
    "    if os.path.isfile(file_path):\n",
    "        with open(file_path, \"r\", encoding=\"utf-8\") as file:\n",
    "            file_content = file.read()\n",
    "            if file_name[:-4] != \".git\":\n",
    "                file_data.append({\"ALink\": file_name[:-4], \"Lyric\": file_content})\n",
    "df_from_txt = pd.DataFrame(file_data)"
   ]
  },
  {
   "cell_type": "code",
   "execution_count": 326,
   "metadata": {},
   "outputs": [
    {
     "data": {
      "text/html": [
       "<div>\n",
       "<style scoped>\n",
       "    .dataframe tbody tr th:only-of-type {\n",
       "        vertical-align: middle;\n",
       "    }\n",
       "\n",
       "    .dataframe tbody tr th {\n",
       "        vertical-align: top;\n",
       "    }\n",
       "\n",
       "    .dataframe thead th {\n",
       "        text-align: right;\n",
       "    }\n",
       "</style>\n",
       "<table border=\"1\" class=\"dataframe\">\n",
       "  <thead>\n",
       "    <tr style=\"text-align: right;\">\n",
       "      <th></th>\n",
       "      <th>ALink</th>\n",
       "      <th>Lyric</th>\n",
       "    </tr>\n",
       "  </thead>\n",
       "  <tbody>\n",
       "    <tr>\n",
       "      <th>0</th>\n",
       "      <td>adele</td>\n",
       "      <td>Looking for some education\\nMade my way into t...</td>\n",
       "    </tr>\n",
       "    <tr>\n",
       "      <th>1</th>\n",
       "      <td>al-green</td>\n",
       "      <td>Let's stay together I, I'm I'm so in love with...</td>\n",
       "    </tr>\n",
       "    <tr>\n",
       "      <th>2</th>\n",
       "      <td>alicia-keys</td>\n",
       "      <td>Ooh....... New York x2 Grew up in a town that ...</td>\n",
       "    </tr>\n",
       "    <tr>\n",
       "      <th>3</th>\n",
       "      <td>amy-winehouse</td>\n",
       "      <td>Build your dreams to the stars above\\nBut when...</td>\n",
       "    </tr>\n",
       "    <tr>\n",
       "      <th>4</th>\n",
       "      <td>beatles</td>\n",
       "      <td>Yesterday, all my troubles seemed so far away\\...</td>\n",
       "    </tr>\n",
       "  </tbody>\n",
       "</table>\n",
       "</div>"
      ],
      "text/plain": [
       "           ALink                                              Lyric\n",
       "0          adele  Looking for some education\\nMade my way into t...\n",
       "1       al-green  Let's stay together I, I'm I'm so in love with...\n",
       "2    alicia-keys  Ooh....... New York x2 Grew up in a town that ...\n",
       "3  amy-winehouse  Build your dreams to the stars above\\nBut when...\n",
       "4        beatles  Yesterday, all my troubles seemed so far away\\..."
      ]
     },
     "execution_count": 326,
     "metadata": {},
     "output_type": "execute_result"
    }
   ],
   "source": [
    "df_from_txt.head()"
   ]
  },
  {
   "cell_type": "code",
   "execution_count": 327,
   "metadata": {},
   "outputs": [
    {
     "data": {
      "text/html": [
       "<div>\n",
       "<style scoped>\n",
       "    .dataframe tbody tr th:only-of-type {\n",
       "        vertical-align: middle;\n",
       "    }\n",
       "\n",
       "    .dataframe tbody tr th {\n",
       "        vertical-align: top;\n",
       "    }\n",
       "\n",
       "    .dataframe thead th {\n",
       "        text-align: right;\n",
       "    }\n",
       "</style>\n",
       "<table border=\"1\" class=\"dataframe\">\n",
       "  <thead>\n",
       "    <tr style=\"text-align: right;\">\n",
       "      <th></th>\n",
       "      <th>ALink</th>\n",
       "      <th>Lyric</th>\n",
       "    </tr>\n",
       "  </thead>\n",
       "  <tbody>\n",
       "    <tr>\n",
       "      <th>44</th>\n",
       "      <td>paul-simon</td>\n",
       "      <td>Hey, Vietnam, Vietnam, Vietnam, Vietnam\\nVietn...</td>\n",
       "    </tr>\n",
       "    <tr>\n",
       "      <th>45</th>\n",
       "      <td>prince</td>\n",
       "      <td>\\n\\nAll of this and more is for you\\nWith love...</td>\n",
       "    </tr>\n",
       "    <tr>\n",
       "      <th>46</th>\n",
       "      <td>r-kelly</td>\n",
       "      <td>I hear you callin', \"Here I come baby\"\\nTo sav...</td>\n",
       "    </tr>\n",
       "    <tr>\n",
       "      <th>47</th>\n",
       "      <td>radiohead</td>\n",
       "      <td>Come on, come on\\nYou think you drive me crazy...</td>\n",
       "    </tr>\n",
       "    <tr>\n",
       "      <th>48</th>\n",
       "      <td>rihanna</td>\n",
       "      <td>Ghost in the mirror\\nI knew your face once, bu...</td>\n",
       "    </tr>\n",
       "  </tbody>\n",
       "</table>\n",
       "</div>"
      ],
      "text/plain": [
       "         ALink                                              Lyric\n",
       "44  paul-simon  Hey, Vietnam, Vietnam, Vietnam, Vietnam\\nVietn...\n",
       "45      prince  \\n\\nAll of this and more is for you\\nWith love...\n",
       "46     r-kelly  I hear you callin', \"Here I come baby\"\\nTo sav...\n",
       "47   radiohead  Come on, come on\\nYou think you drive me crazy...\n",
       "48     rihanna  Ghost in the mirror\\nI knew your face once, bu..."
      ]
     },
     "execution_count": 327,
     "metadata": {},
     "output_type": "execute_result"
    }
   ],
   "source": [
    "df_from_txt.tail()"
   ]
  },
  {
   "cell_type": "code",
   "execution_count": 328,
   "metadata": {},
   "outputs": [
    {
     "name": "stdout",
     "output_type": "stream",
     "text": [
      "<class 'pandas.core.frame.DataFrame'>\n",
      "RangeIndex: 49 entries, 0 to 48\n",
      "Data columns (total 2 columns):\n",
      " #   Column  Non-Null Count  Dtype \n",
      "---  ------  --------------  ----- \n",
      " 0   ALink   49 non-null     object\n",
      " 1   Lyric   49 non-null     object\n",
      "dtypes: object(2)\n",
      "memory usage: 916.0+ bytes\n"
     ]
    }
   ],
   "source": [
    "df_from_txt.info()"
   ]
  },
  {
   "cell_type": "markdown",
   "metadata": {},
   "source": [
    "## Check for repeated information\n",
    "Let's see if the data from the text files already has the information contained in the data from the csv file. In that case, we can drop the repeated data from the csv file dataframe. The best way to check this is through the artists."
   ]
  },
  {
   "cell_type": "code",
   "execution_count": 329,
   "metadata": {},
   "outputs": [
    {
     "data": {
      "text/plain": [
       "ALink\n",
       "frank-sinatra          819\n",
       "elvis-presley          747\n",
       "dolly-parton           723\n",
       "matheus-hardke         707\n",
       "lil-wayne              689\n",
       "                      ... \n",
       "santanna-o-cantador      1\n",
       "gatinha-manhosa          1\n",
       "bia-socek                1\n",
       "toni-tornado             1\n",
       "gabriela-rocha           1\n",
       "Name: count, Length: 2508, dtype: int64"
      ]
     },
     "execution_count": 329,
     "metadata": {},
     "output_type": "execute_result"
    }
   ],
   "source": [
    "df_from_csv[\"ALink\"].value_counts()"
   ]
  },
  {
   "cell_type": "code",
   "execution_count": 330,
   "metadata": {},
   "outputs": [
    {
     "data": {
      "text/plain": [
       "ALink\n",
       "adele                 1\n",
       "kanye-west            1\n",
       "Kanye_West            1\n",
       "lady-gaga             1\n",
       "leonard-cohen         1\n",
       "lil-wayne             1\n",
       "Lil_Wayne             1\n",
       "lin-manuel-miranda    1\n",
       "lorde                 1\n",
       "ludacris              1\n",
       "michael-jackson       1\n",
       "missy-elliott         1\n",
       "nickelback            1\n",
       "nicki-minaj           1\n",
       "nirvana               1\n",
       "notorious-big         1\n",
       "notorious_big         1\n",
       "nursery_rhymes        1\n",
       "patti-smith           1\n",
       "paul-simon            1\n",
       "prince                1\n",
       "r-kelly               1\n",
       "radiohead             1\n",
       "kanye                 1\n",
       "joni-mitchell         1\n",
       "al-green              1\n",
       "johnny-cash           1\n",
       "alicia-keys           1\n",
       "amy-winehouse         1\n",
       "beatles               1\n",
       "bieber                1\n",
       "bjork                 1\n",
       "blink-182             1\n",
       "bob-dylan             1\n",
       "bob-marley            1\n",
       "britney-spears        1\n",
       "bruce-springsteen     1\n",
       "bruno-mars            1\n",
       "cake                  1\n",
       "dickinson             1\n",
       "disney                1\n",
       "dj-khaled             1\n",
       "dolly-parton          1\n",
       "dr-seuss              1\n",
       "drake                 1\n",
       "eminem                1\n",
       "janisjoplin           1\n",
       "jimi-hendrix          1\n",
       "rihanna               1\n",
       "Name: count, dtype: int64"
      ]
     },
     "execution_count": 330,
     "metadata": {},
     "output_type": "execute_result"
    }
   ],
   "source": [
    "df_from_txt[\"ALink\"].value_counts()"
   ]
  },
  {
   "cell_type": "markdown",
   "metadata": {},
   "source": [
    "I see some examples like \"Kanye-West\", \"kanye-west\" and \"kanye\". Let's use a name format [lowercase]-[lowercase] and then merge the rows with the same 'ALink' value."
   ]
  },
  {
   "cell_type": "code",
   "execution_count": 331,
   "metadata": {},
   "outputs": [],
   "source": [
    "def transform_artist_name(x):\n",
    "    x=x.replace(\"_\", \"-\")\n",
    "    x=x.lower()\n",
    "    return x"
   ]
  },
  {
   "cell_type": "code",
   "execution_count": 332,
   "metadata": {},
   "outputs": [],
   "source": [
    "df_from_txt[\"ALink\"] = df_from_txt[\"ALink\"].apply(transform_artist_name)"
   ]
  },
  {
   "cell_type": "code",
   "execution_count": 333,
   "metadata": {},
   "outputs": [
    {
     "data": {
      "text/plain": [
       "ALink\n",
       "kanye-west            2\n",
       "lil-wayne             2\n",
       "notorious-big         2\n",
       "adele                 1\n",
       "missy-elliott         1\n",
       "kanye                 1\n",
       "lady-gaga             1\n",
       "leonard-cohen         1\n",
       "lin-manuel-miranda    1\n",
       "lorde                 1\n",
       "ludacris              1\n",
       "michael-jackson       1\n",
       "nickelback            1\n",
       "al-green              1\n",
       "nicki-minaj           1\n",
       "nirvana               1\n",
       "nursery-rhymes        1\n",
       "patti-smith           1\n",
       "paul-simon            1\n",
       "prince                1\n",
       "r-kelly               1\n",
       "radiohead             1\n",
       "joni-mitchell         1\n",
       "johnny-cash           1\n",
       "jimi-hendrix          1\n",
       "janisjoplin           1\n",
       "alicia-keys           1\n",
       "amy-winehouse         1\n",
       "beatles               1\n",
       "bieber                1\n",
       "bjork                 1\n",
       "blink-182             1\n",
       "bob-dylan             1\n",
       "bob-marley            1\n",
       "britney-spears        1\n",
       "bruce-springsteen     1\n",
       "bruno-mars            1\n",
       "cake                  1\n",
       "dickinson             1\n",
       "disney                1\n",
       "dj-khaled             1\n",
       "dolly-parton          1\n",
       "dr-seuss              1\n",
       "drake                 1\n",
       "eminem                1\n",
       "rihanna               1\n",
       "Name: count, dtype: int64"
      ]
     },
     "execution_count": 333,
     "metadata": {},
     "output_type": "execute_result"
    }
   ],
   "source": [
    "df_from_txt[\"ALink\"].value_counts()"
   ]
  },
  {
   "cell_type": "markdown",
   "metadata": {},
   "source": [
    "Let's join Kanye West's and Lil Wayne's lyrics into one dataframe row."
   ]
  },
  {
   "cell_type": "code",
   "execution_count": 334,
   "metadata": {},
   "outputs": [],
   "source": [
    "df_from_txt = df_from_txt.groupby(\"ALink\")[\"Lyric\"].agg(lambda x: '\\n'.join(x)).reset_index()"
   ]
  },
  {
   "cell_type": "code",
   "execution_count": 335,
   "metadata": {},
   "outputs": [
    {
     "data": {
      "text/plain": [
       "ALink\n",
       "adele                 1\n",
       "missy-elliott         1\n",
       "kanye                 1\n",
       "kanye-west            1\n",
       "lady-gaga             1\n",
       "leonard-cohen         1\n",
       "lil-wayne             1\n",
       "lin-manuel-miranda    1\n",
       "lorde                 1\n",
       "ludacris              1\n",
       "michael-jackson       1\n",
       "nickelback            1\n",
       "al-green              1\n",
       "nicki-minaj           1\n",
       "nirvana               1\n",
       "notorious-big         1\n",
       "nursery-rhymes        1\n",
       "patti-smith           1\n",
       "paul-simon            1\n",
       "prince                1\n",
       "r-kelly               1\n",
       "radiohead             1\n",
       "joni-mitchell         1\n",
       "johnny-cash           1\n",
       "jimi-hendrix          1\n",
       "janisjoplin           1\n",
       "alicia-keys           1\n",
       "amy-winehouse         1\n",
       "beatles               1\n",
       "bieber                1\n",
       "bjork                 1\n",
       "blink-182             1\n",
       "bob-dylan             1\n",
       "bob-marley            1\n",
       "britney-spears        1\n",
       "bruce-springsteen     1\n",
       "bruno-mars            1\n",
       "cake                  1\n",
       "dickinson             1\n",
       "disney                1\n",
       "dj-khaled             1\n",
       "dolly-parton          1\n",
       "dr-seuss              1\n",
       "drake                 1\n",
       "eminem                1\n",
       "rihanna               1\n",
       "Name: count, dtype: int64"
      ]
     },
     "execution_count": 335,
     "metadata": {},
     "output_type": "execute_result"
    }
   ],
   "source": [
    "df_from_txt[\"ALink\"].value_counts()"
   ]
  },
  {
   "cell_type": "markdown",
   "metadata": {},
   "source": [
    "The only problem remaining now is \"kanye\" and \"kanye-west\". The solution should also check for these occurances with other artists."
   ]
  },
  {
   "cell_type": "markdown",
   "metadata": {},
   "source": [
    "Identify values where one is contained in the other."
   ]
  },
  {
   "cell_type": "code",
   "execution_count": 336,
   "metadata": {},
   "outputs": [],
   "source": [
    "to_merge = {}\n",
    "for idx, row in df_from_txt.iterrows():\n",
    "    for other_idx, other_row in df_from_txt.iterrows():\n",
    "        if idx != other_idx and row[\"ALink\"] in other_row[\"ALink\"]:\n",
    "            if other_idx not in to_merge:\n",
    "                to_merge[other_idx] = []\n",
    "            to_merge[other_idx].append(idx)"
   ]
  },
  {
   "cell_type": "markdown",
   "metadata": {},
   "source": [
    "Merge values."
   ]
  },
  {
   "cell_type": "code",
   "execution_count": 337,
   "metadata": {},
   "outputs": [],
   "source": [
    "for other_idx, merge_indices in to_merge.items():\n",
    "    merged_values = '\\n'.join(df_from_txt.at[idx, \"Lyric\"] for idx in merge_indices)\n",
    "    df_from_txt.at[other_idx, \"Lyric\"] += '\\n' + merged_values"
   ]
  },
  {
   "cell_type": "markdown",
   "metadata": {},
   "source": [
    "Drop the rows with duplicates and reset the index."
   ]
  },
  {
   "cell_type": "code",
   "execution_count": 338,
   "metadata": {},
   "outputs": [],
   "source": [
    "df_from_txt.drop(index=[idx for indices in to_merge.values() for idx in indices], inplace=True)\n",
    "df_from_txt.reset_index(drop=True, inplace=True)"
   ]
  },
  {
   "cell_type": "code",
   "execution_count": 339,
   "metadata": {},
   "outputs": [
    {
     "data": {
      "text/plain": [
       "ALink\n",
       "adele                 1\n",
       "johnny-cash           1\n",
       "kanye-west            1\n",
       "lady-gaga             1\n",
       "leonard-cohen         1\n",
       "lil-wayne             1\n",
       "lin-manuel-miranda    1\n",
       "lorde                 1\n",
       "ludacris              1\n",
       "michael-jackson       1\n",
       "missy-elliott         1\n",
       "nickelback            1\n",
       "nicki-minaj           1\n",
       "nirvana               1\n",
       "notorious-big         1\n",
       "nursery-rhymes        1\n",
       "patti-smith           1\n",
       "paul-simon            1\n",
       "prince                1\n",
       "r-kelly               1\n",
       "radiohead             1\n",
       "joni-mitchell         1\n",
       "jimi-hendrix          1\n",
       "al-green              1\n",
       "janisjoplin           1\n",
       "alicia-keys           1\n",
       "amy-winehouse         1\n",
       "beatles               1\n",
       "bieber                1\n",
       "bjork                 1\n",
       "blink-182             1\n",
       "bob-dylan             1\n",
       "bob-marley            1\n",
       "britney-spears        1\n",
       "bruce-springsteen     1\n",
       "bruno-mars            1\n",
       "cake                  1\n",
       "dickinson             1\n",
       "disney                1\n",
       "dj-khaled             1\n",
       "dolly-parton          1\n",
       "dr-seuss              1\n",
       "drake                 1\n",
       "eminem                1\n",
       "rihanna               1\n",
       "Name: count, dtype: int64"
      ]
     },
     "execution_count": 339,
     "metadata": {},
     "output_type": "execute_result"
    }
   ],
   "source": [
    "df_from_txt[\"ALink\"].value_counts()"
   ]
  },
  {
   "cell_type": "markdown",
   "metadata": {},
   "source": [
    "Intersection of the \"ALink\" columns from both dataframes."
   ]
  },
  {
   "cell_type": "code",
   "execution_count": 340,
   "metadata": {},
   "outputs": [
    {
     "data": {
      "text/plain": [
       "['bob-dylan',\n",
       " 'nicki-minaj',\n",
       " 'rihanna',\n",
       " 'drake',\n",
       " 'r-kelly',\n",
       " 'nickelback',\n",
       " 'dj-khaled',\n",
       " 'lorde',\n",
       " 'amy-winehouse',\n",
       " 'kanye-west',\n",
       " 'adele',\n",
       " 'jimi-hendrix',\n",
       " 'bruno-mars',\n",
       " 'dolly-parton',\n",
       " 'johnny-cash',\n",
       " 'bjork',\n",
       " 'missy-elliott',\n",
       " 'al-green',\n",
       " 'patti-smith',\n",
       " 'blink-182',\n",
       " 'alicia-keys',\n",
       " 'michael-jackson',\n",
       " 'prince',\n",
       " 'bob-marley',\n",
       " 'ludacris',\n",
       " 'bruce-springsteen',\n",
       " 'nirvana',\n",
       " 'eminem',\n",
       " 'disney',\n",
       " 'radiohead',\n",
       " 'lady-gaga',\n",
       " 'joni-mitchell',\n",
       " 'lil-wayne',\n",
       " 'britney-spears',\n",
       " 'leonard-cohen']"
      ]
     },
     "execution_count": 340,
     "metadata": {},
     "output_type": "execute_result"
    }
   ],
   "source": [
    "intersection = list(set(df_from_txt[\"ALink\"]) & set(df_from_csv[\"ALink\"]))\n",
    "intersection"
   ]
  },
  {
   "cell_type": "markdown",
   "metadata": {},
   "source": [
    "Number of common values from both dataframes."
   ]
  },
  {
   "cell_type": "code",
   "execution_count": 341,
   "metadata": {},
   "outputs": [
    {
     "data": {
      "text/plain": [
       "35"
      ]
     },
     "execution_count": 341,
     "metadata": {},
     "output_type": "execute_result"
    }
   ],
   "source": [
    "len(intersection)"
   ]
  },
  {
   "cell_type": "markdown",
   "metadata": {},
   "source": [
    "Number of unique values from the csv dataframe."
   ]
  },
  {
   "cell_type": "code",
   "execution_count": 342,
   "metadata": {},
   "outputs": [
    {
     "data": {
      "text/plain": [
       "2508"
      ]
     },
     "execution_count": 342,
     "metadata": {},
     "output_type": "execute_result"
    }
   ],
   "source": [
    "len(set(df_from_csv[\"ALink\"]))"
   ]
  },
  {
   "cell_type": "markdown",
   "metadata": {},
   "source": [
    "Number of unique values from the txt dataframe."
   ]
  },
  {
   "cell_type": "code",
   "execution_count": 343,
   "metadata": {},
   "outputs": [
    {
     "data": {
      "text/plain": [
       "45"
      ]
     },
     "execution_count": 343,
     "metadata": {},
     "output_type": "execute_result"
    }
   ],
   "source": [
    "len(set(df_from_txt[\"ALink\"]))"
   ]
  },
  {
   "cell_type": "markdown",
   "metadata": {},
   "source": [
    "Now we need to check the 'Lyric' values of the intersect elements from the csv dataframe and see if they appear in the 'Lyric' values of those intersect elements in the txt dataframe.\n",
    "\n",
    "This is hard to do programaticaly because of possible various text formatings in the data sources. There are extensive possibilities to cover."
   ]
  },
  {
   "cell_type": "code",
   "execution_count": 349,
   "metadata": {},
   "outputs": [
    {
     "data": {
      "text/plain": [
       "9483"
      ]
     },
     "execution_count": 349,
     "metadata": {},
     "output_type": "execute_result"
    }
   ],
   "source": [
    "filtered_df = df_from_csv[df_from_csv[\"ALink\"].isin(intersection)]\n",
    "len(filtered_df)"
   ]
  },
  {
   "cell_type": "markdown",
   "metadata": {},
   "source": [
    "After visual inspection, a large number of \"Lyric\" values from the csv dataframe appear in the \"Lyric\" values from the txt dataframe but in different formats. The agreement is to keep the repeating information because in textual datasets words, sentences and even paragraphs can and most likely will repeat.\n",
    "\n",
    "The dataframes can now be concatenated and saved as an interim dataset."
   ]
  }
 ],
 "metadata": {
  "kernelspec": {
   "display_name": "Python 3",
   "language": "python",
   "name": "python3"
  },
  "language_info": {
   "codemirror_mode": {
    "name": "ipython",
    "version": 3
   },
   "file_extension": ".py",
   "mimetype": "text/x-python",
   "name": "python",
   "nbconvert_exporter": "python",
   "pygments_lexer": "ipython3",
   "version": "3.11.6"
  }
 },
 "nbformat": 4,
 "nbformat_minor": 2
}
